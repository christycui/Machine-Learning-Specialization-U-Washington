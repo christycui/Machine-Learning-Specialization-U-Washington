{
 "cells": [
  {
   "cell_type": "code",
   "execution_count": 1,
   "metadata": {
    "collapsed": false
   },
   "outputs": [
    {
     "name": "stdout",
     "output_type": "stream",
     "text": [
      "Using matplotlib backend: MacOSX\n"
     ]
    }
   ],
   "source": [
    "%matplotlib\n",
    "import numpy as np\n",
    "import pandas as pd\n",
    "import statsmodels.api as sm\n",
    "import math"
   ]
  },
  {
   "cell_type": "code",
   "execution_count": 9,
   "metadata": {
    "collapsed": false
   },
   "outputs": [],
   "source": [
    "def polynomial_dataframe(feature, degree): # feature is pandas.Series type\n",
    "    # assume that degree >= 1\n",
    "    # initialize the dataframe:\n",
    "    poly_dataframe = pd.DataFrame()\n",
    "    # and set poly_dataframe['power_1'] equal to the passed feature\n",
    "    poly_dataframe['power_1'] = feature\n",
    "    # first check if degree > 1\n",
    "    if degree > 1:\n",
    "        # then loop over the remaining degrees:\n",
    "        for power in range(2, degree+1):\n",
    "            # first we'll give the column a name:\n",
    "            name = 'power_' + str(power)\n",
    "            # assign poly_dataframe[name] to be feature^power; use apply(*)\n",
    "            poly_dataframe[name] = feature.apply(lambda x: x**power)\n",
    "    return poly_dataframe"
   ]
  },
  {
   "cell_type": "markdown",
   "metadata": {},
   "source": [
    "## Load in datasets"
   ]
  },
  {
   "cell_type": "code",
   "execution_count": 6,
   "metadata": {
    "collapsed": false
   },
   "outputs": [
    {
     "name": "stderr",
     "output_type": "stream",
     "text": [
      "/Users/Christy/miniconda3/envs/dato-env/lib/python2.7/site-packages/ipykernel/__main__.py:2: FutureWarning: sort(columns=....) is deprecated, use sort_values(by=.....)\n",
      "  from ipykernel import kernelapp as app\n"
     ]
    }
   ],
   "source": [
    "sales = pd.read_csv('kc_house_data.csv')\n",
    "sales = sales.sort(['sqft_living','price'])"
   ]
  },
  {
   "cell_type": "code",
   "execution_count": 21,
   "metadata": {
    "collapsed": false
   },
   "outputs": [],
   "source": [
    "poly1_data = polynomial_dataframe(sales['sqft_living'], 1)"
   ]
  },
  {
   "cell_type": "code",
   "execution_count": 23,
   "metadata": {
    "collapsed": false
   },
   "outputs": [
    {
     "data": {
      "text/html": [
       "<table class=\"simpletable\">\n",
       "<caption>OLS Regression Results</caption>\n",
       "<tr>\n",
       "  <th>Dep. Variable:</th>          <td>price</td>      <th>  R-squared:         </th>  <td>   0.493</td>  \n",
       "</tr>\n",
       "<tr>\n",
       "  <th>Model:</th>                   <td>OLS</td>       <th>  Adj. R-squared:    </th>  <td>   0.493</td>  \n",
       "</tr>\n",
       "<tr>\n",
       "  <th>Method:</th>             <td>Least Squares</td>  <th>  F-statistic:       </th>  <td>2.100e+04</td> \n",
       "</tr>\n",
       "<tr>\n",
       "  <th>Date:</th>             <td>Thu, 28 Jul 2016</td> <th>  Prob (F-statistic):</th>   <td>  0.00</td>   \n",
       "</tr>\n",
       "<tr>\n",
       "  <th>Time:</th>                 <td>12:38:08</td>     <th>  Log-Likelihood:    </th> <td>-3.0027e+05</td>\n",
       "</tr>\n",
       "<tr>\n",
       "  <th>No. Observations:</th>      <td> 21613</td>      <th>  AIC:               </th>  <td>6.005e+05</td> \n",
       "</tr>\n",
       "<tr>\n",
       "  <th>Df Residuals:</th>          <td> 21611</td>      <th>  BIC:               </th>  <td>6.006e+05</td> \n",
       "</tr>\n",
       "<tr>\n",
       "  <th>Df Model:</th>              <td>     1</td>      <th>                     </th>      <td> </td>     \n",
       "</tr>\n",
       "<tr>\n",
       "  <th>Covariance Type:</th>      <td>nonrobust</td>    <th>                     </th>      <td> </td>     \n",
       "</tr>\n",
       "</table>\n",
       "<table class=\"simpletable\">\n",
       "<tr>\n",
       "     <td></td>        <th>coef</th>     <th>std err</th>      <th>t</th>      <th>P>|t|</th> <th>[95.0% Conf. Int.]</th> \n",
       "</tr>\n",
       "<tr>\n",
       "  <th>const</th>   <td>-4.358e+04</td> <td> 4402.690</td> <td>   -9.899</td> <td> 0.000</td> <td>-5.22e+04  -3.5e+04</td>\n",
       "</tr>\n",
       "<tr>\n",
       "  <th>power_1</th> <td>  280.6236</td> <td>    1.936</td> <td>  144.920</td> <td> 0.000</td> <td>  276.828   284.419</td>\n",
       "</tr>\n",
       "</table>\n",
       "<table class=\"simpletable\">\n",
       "<tr>\n",
       "  <th>Omnibus:</th>       <td>14832.490</td> <th>  Durbin-Watson:     </th>  <td>   0.743</td> \n",
       "</tr>\n",
       "<tr>\n",
       "  <th>Prob(Omnibus):</th>  <td> 0.000</td>   <th>  Jarque-Bera (JB):  </th> <td>546444.713</td>\n",
       "</tr>\n",
       "<tr>\n",
       "  <th>Skew:</th>           <td> 2.824</td>   <th>  Prob(JB):          </th>  <td>    0.00</td> \n",
       "</tr>\n",
       "<tr>\n",
       "  <th>Kurtosis:</th>       <td>26.977</td>   <th>  Cond. No.          </th>  <td>5.63e+03</td> \n",
       "</tr>\n",
       "</table>"
      ],
      "text/plain": [
       "<class 'statsmodels.iolib.summary.Summary'>\n",
       "\"\"\"\n",
       "                            OLS Regression Results                            \n",
       "==============================================================================\n",
       "Dep. Variable:                  price   R-squared:                       0.493\n",
       "Model:                            OLS   Adj. R-squared:                  0.493\n",
       "Method:                 Least Squares   F-statistic:                 2.100e+04\n",
       "Date:                Thu, 28 Jul 2016   Prob (F-statistic):               0.00\n",
       "Time:                        12:38:08   Log-Likelihood:            -3.0027e+05\n",
       "No. Observations:               21613   AIC:                         6.005e+05\n",
       "Df Residuals:                   21611   BIC:                         6.006e+05\n",
       "Df Model:                           1                                         \n",
       "Covariance Type:            nonrobust                                         \n",
       "==============================================================================\n",
       "                 coef    std err          t      P>|t|      [95.0% Conf. Int.]\n",
       "------------------------------------------------------------------------------\n",
       "const      -4.358e+04   4402.690     -9.899      0.000     -5.22e+04  -3.5e+04\n",
       "power_1      280.6236      1.936    144.920      0.000       276.828   284.419\n",
       "==============================================================================\n",
       "Omnibus:                    14832.490   Durbin-Watson:                   0.743\n",
       "Prob(Omnibus):                  0.000   Jarque-Bera (JB):           546444.713\n",
       "Skew:                           2.824   Prob(JB):                         0.00\n",
       "Kurtosis:                      26.977   Cond. No.                     5.63e+03\n",
       "==============================================================================\n",
       "\n",
       "Warnings:\n",
       "[1] Standard Errors assume that the covariance matrix of the errors is correctly specified.\n",
       "[2] The condition number is large, 5.63e+03. This might indicate that there are\n",
       "strong multicollinearity or other numerical problems.\n",
       "\"\"\""
      ]
     },
     "execution_count": 23,
     "metadata": {},
     "output_type": "execute_result"
    }
   ],
   "source": [
    "poly1_data = sm.add_constant(poly1_data)\n",
    "poly1_model = sm.OLS(sales['price'],poly1_data)\n",
    "poly1_model.fit().summary()"
   ]
  },
  {
   "cell_type": "markdown",
   "metadata": {},
   "source": [
    "## Plot model 1 results"
   ]
  },
  {
   "cell_type": "code",
   "execution_count": 25,
   "metadata": {
    "collapsed": false
   },
   "outputs": [
    {
     "data": {
      "text/plain": [
       "[<matplotlib.lines.Line2D at 0x11609c7d0>,\n",
       " <matplotlib.lines.Line2D at 0x11609ce90>]"
      ]
     },
     "execution_count": 25,
     "metadata": {},
     "output_type": "execute_result"
    },
    {
     "data": {
      "image/png": "[encoded data removed]",
      "text/plain": [
       "<matplotlib.figure.Figure at 0x101be2e50>"
      ]
     },
     "metadata": {},
     "output_type": "display_data"
    }
   ],
   "source": [
    "import matplotlib.pyplot as plt\n",
    "%matplotlib inline\n",
    "plt.plot(poly1_data['power_1'],sales['price'],'.',\n",
    "poly1_data['power_1'], poly1_model.fit().predict(poly1_data),'-')"
   ]
  },
  {
   "cell_type": "markdown",
   "metadata": {},
   "source": [
    "## repeat for 2nd, 3rd and 15th degrees"
   ]
  },
  {
   "cell_type": "code",
   "execution_count": 99,
   "metadata": {
    "collapsed": false
   },
   "outputs": [
    {
     "data": {
      "text/plain": [
       "[<matplotlib.lines.Line2D at 0x11c3f3510>,\n",
       " <matplotlib.lines.Line2D at 0x11c3f3c50>]"
      ]
     },
     "execution_count": 99,
     "metadata": {},
     "output_type": "execute_result"
    },
    {
     "data": {
      "image/png": "[encoded data removed]",
      "text/plain": [
       "<matplotlib.figure.Figure at 0x1155d3690>"
      ]
     },
     "metadata": {},
     "output_type": "display_data"
    }
   ],
   "source": [
    "poly2_data = polynomial_dataframe(sales['sqft_living'], 2)\n",
    "poly2_data = sm.add_constant(poly2_data)\n",
    "poly2_model = sm.OLS(sales['price'],poly2_data)\n",
    "plt.plot(poly2_data['power_1'],sales['price'],'.',\n",
    "poly2_data['power_1'], poly2_model.fit().predict(poly2_data),'-')"
   ]
  },
  {
   "cell_type": "code",
   "execution_count": 30,
   "metadata": {
    "collapsed": false
   },
   "outputs": [
    {
     "data": {
      "text/plain": [
       "[<matplotlib.lines.Line2D at 0x11699e350>,\n",
       " <matplotlib.lines.Line2D at 0x11699ea90>]"
      ]
     },
     "execution_count": 30,
     "metadata": {},
     "output_type": "execute_result"
    },
    {
     "data": {
      "image/png": "[encoded data removed]",
      "text/plain": [
       "<matplotlib.figure.Figure at 0x116936990>"
      ]
     },
     "metadata": {},
     "output_type": "display_data"
    }
   ],
   "source": [
    "poly3_data = polynomial_dataframe(sales['sqft_living'], 3)\n",
    "poly3_data = sm.add_constant(poly3_data)\n",
    "poly3_model = sm.OLS(sales['price'],poly3_data)\n",
    "plt.plot(poly3_data['power_1'],sales['price'],'.',\n",
    "poly3_data['power_1'], poly3_model.fit().predict(poly3_data),'-')"
   ]
  },
  {
   "cell_type": "code",
   "execution_count": 33,
   "metadata": {
    "collapsed": false
   },
   "outputs": [
    {
     "data": {
      "text/plain": [
       "[<matplotlib.lines.Line2D at 0x117fc43d0>,\n",
       " <matplotlib.lines.Line2D at 0x117fc4b10>]"
      ]
     },
     "execution_count": 33,
     "metadata": {},
     "output_type": "execute_result"
    },
    {
     "data": {
      "image/png": "[encoded data removed]",
      "text/plain": [
       "<matplotlib.figure.Figure at 0x11ab91ed0>"
      ]
     },
     "metadata": {},
     "output_type": "display_data"
    }
   ],
   "source": [
    "poly15_data = polynomial_dataframe(sales['sqft_living'], 15)\n",
    "poly15_data = sm.add_constant(poly15_data)\n",
    "poly15_model = sm.OLS(sales['price'],poly15_data.astype(float))\n",
    "plt.plot(poly15_data['power_1'],sales['price'],'.',\n",
    "poly15_data['power_1'], poly15_model.fit().predict(poly15_data),'-')"
   ]
  },
  {
   "cell_type": "markdown",
   "metadata": {},
   "source": [
    "## Train on 4 datasets"
   ]
  },
  {
   "cell_type": "code",
   "execution_count": 35,
   "metadata": {
    "collapsed": true
   },
   "outputs": [],
   "source": [
    "dataset1 = pd.read_csv('wk3_kc_house_set_1_data.csv')\n",
    "dataset2 = pd.read_csv('wk3_kc_house_set_2_data.csv')\n",
    "dataset3 = pd.read_csv('wk3_kc_house_set_3_data.csv')\n",
    "dataset4 = pd.read_csv('wk3_kc_house_set_4_data.csv')"
   ]
  },
  {
   "cell_type": "code",
   "execution_count": 37,
   "metadata": {
    "collapsed": false
   },
   "outputs": [
    {
     "data": {
      "text/html": [
       "<table class=\"simpletable\">\n",
       "<caption>OLS Regression Results</caption>\n",
       "<tr>\n",
       "  <th>Dep. Variable:</th>          <td>price</td>      <th>  R-squared:         </th> <td>  -1.734</td> \n",
       "</tr>\n",
       "<tr>\n",
       "  <th>Model:</th>                   <td>OLS</td>       <th>  Adj. R-squared:    </th> <td>  -1.735</td> \n",
       "</tr>\n",
       "<tr>\n",
       "  <th>Method:</th>             <td>Least Squares</td>  <th>  F-statistic:       </th> <td>  -1713.</td> \n",
       "</tr>\n",
       "<tr>\n",
       "  <th>Date:</th>             <td>Thu, 28 Jul 2016</td> <th>  Prob (F-statistic):</th>  <td>  1.00</td>  \n",
       "</tr>\n",
       "<tr>\n",
       "  <th>Time:</th>                 <td>13:05:51</td>     <th>  Log-Likelihood:    </th> <td> -79975.</td> \n",
       "</tr>\n",
       "<tr>\n",
       "  <th>No. Observations:</th>      <td>  5404</td>      <th>  AIC:               </th> <td>1.600e+05</td>\n",
       "</tr>\n",
       "<tr>\n",
       "  <th>Df Residuals:</th>          <td>  5401</td>      <th>  BIC:               </th> <td>1.600e+05</td>\n",
       "</tr>\n",
       "<tr>\n",
       "  <th>Df Model:</th>              <td>     2</td>      <th>                     </th>     <td> </td>    \n",
       "</tr>\n",
       "<tr>\n",
       "  <th>Covariance Type:</th>      <td>nonrobust</td>    <th>                     </th>     <td> </td>    \n",
       "</tr>\n",
       "</table>\n",
       "<table class=\"simpletable\">\n",
       "<tr>\n",
       "      <td></td>        <th>coef</th>      <th>std err</th>      <th>t</th>      <th>P>|t|</th>  <th>[95.0% Conf. Int.]</th>  \n",
       "</tr>\n",
       "<tr>\n",
       "  <th>const</th>    <td> 6.998e-94</td>  <td> 4.33e-95</td> <td>   16.163</td> <td> 0.000</td> <td>  6.15e-94  7.85e-94 </td>\n",
       "</tr>\n",
       "<tr>\n",
       "  <th>power_1</th>  <td>-1.159e-48</td>  <td> 7.17e-50</td> <td>  -16.163</td> <td> 0.000</td> <td>  -1.3e-48 -1.02e-48 </td>\n",
       "</tr>\n",
       "<tr>\n",
       "  <th>power_2</th>  <td> 4.486e-55</td>  <td> 2.78e-56</td> <td>   16.163</td> <td> 0.000</td> <td>  3.94e-55  5.03e-55 </td>\n",
       "</tr>\n",
       "<tr>\n",
       "  <th>power_3</th>  <td> 4.959e-60</td>  <td> 3.07e-61</td> <td>   16.163</td> <td> 0.000</td> <td>  4.36e-60  5.56e-60 </td>\n",
       "</tr>\n",
       "<tr>\n",
       "  <th>power_4</th>  <td>-3.275e-101</td> <td>5.93e-102</td> <td>   -5.527</td> <td> 0.000</td> <td>-4.44e-101 -2.11e-101</td>\n",
       "</tr>\n",
       "<tr>\n",
       "  <th>power_5</th>  <td> 6.108e-86</td>  <td> 5.22e-87</td> <td>   11.691</td> <td> 0.000</td> <td>  5.08e-86  7.13e-86 </td>\n",
       "</tr>\n",
       "<tr>\n",
       "  <th>power_6</th>  <td> 1.367e-70</td>  <td> 8.45e-72</td> <td>   16.163</td> <td> 0.000</td> <td>   1.2e-70  1.53e-70 </td>\n",
       "</tr>\n",
       "<tr>\n",
       "  <th>power_7</th>  <td> 1.036e-66</td>  <td> 6.41e-68</td> <td>   16.163</td> <td> 0.000</td> <td>   9.1e-67  1.16e-66 </td>\n",
       "</tr>\n",
       "<tr>\n",
       "  <th>power_8</th>  <td> 7.699e-63</td>  <td> 4.76e-64</td> <td>   16.163</td> <td> 0.000</td> <td>  6.77e-63  8.63e-63 </td>\n",
       "</tr>\n",
       "<tr>\n",
       "  <th>power_9</th>  <td> 5.544e-59</td>  <td> 3.43e-60</td> <td>   16.163</td> <td> 0.000</td> <td>  4.87e-59  6.22e-59 </td>\n",
       "</tr>\n",
       "<tr>\n",
       "  <th>power_10</th> <td> 3.787e-55</td>  <td> 2.34e-56</td> <td>   16.163</td> <td> 0.000</td> <td>  3.33e-55  4.25e-55 </td>\n",
       "</tr>\n",
       "<tr>\n",
       "  <th>power_11</th> <td> 2.365e-51</td>  <td> 1.46e-52</td> <td>   16.163</td> <td> 0.000</td> <td>  2.08e-51  2.65e-51 </td>\n",
       "</tr>\n",
       "<tr>\n",
       "  <th>power_12</th> <td>  1.25e-47</td>  <td> 7.73e-49</td> <td>   16.163</td> <td> 0.000</td> <td>   1.1e-47   1.4e-47 </td>\n",
       "</tr>\n",
       "<tr>\n",
       "  <th>power_13</th> <td> 4.466e-44</td>  <td> 2.76e-45</td> <td>   16.163</td> <td> 0.000</td> <td>  3.92e-44  5.01e-44 </td>\n",
       "</tr>\n",
       "<tr>\n",
       "  <th>power_14</th> <td>-6.957e-48</td>  <td> 4.34e-49</td> <td>  -16.044</td> <td> 0.000</td> <td> -7.81e-48 -6.11e-48 </td>\n",
       "</tr>\n",
       "<tr>\n",
       "  <th>power_15</th> <td> 2.702e-52</td>  <td>  1.7e-53</td> <td>   15.939</td> <td> 0.000</td> <td>  2.37e-52  3.03e-52 </td>\n",
       "</tr>\n",
       "</table>\n",
       "<table class=\"simpletable\">\n",
       "<tr>\n",
       "  <th>Omnibus:</th>       <td>3030.487</td> <th>  Durbin-Watson:     </th> <td>   0.206</td> \n",
       "</tr>\n",
       "<tr>\n",
       "  <th>Prob(Omnibus):</th>  <td> 0.000</td>  <th>  Jarque-Bera (JB):  </th> <td>77036.642</td>\n",
       "</tr>\n",
       "<tr>\n",
       "  <th>Skew:</th>           <td> 2.179</td>  <th>  Prob(JB):          </th> <td>    0.00</td> \n",
       "</tr>\n",
       "<tr>\n",
       "  <th>Kurtosis:</th>       <td>20.976</td>  <th>  Cond. No.          </th> <td>5.41e+62</td> \n",
       "</tr>\n",
       "</table>"
      ],
      "text/plain": [
       "<class 'statsmodels.iolib.summary.Summary'>\n",
       "\"\"\"\n",
       "                            OLS Regression Results                            \n",
       "==============================================================================\n",
       "Dep. Variable:                  price   R-squared:                      -1.734\n",
       "Model:                            OLS   Adj. R-squared:                 -1.735\n",
       "Method:                 Least Squares   F-statistic:                    -1713.\n",
       "Date:                Thu, 28 Jul 2016   Prob (F-statistic):               1.00\n",
       "Time:                        13:05:51   Log-Likelihood:                -79975.\n",
       "No. Observations:                5404   AIC:                         1.600e+05\n",
       "Df Residuals:                    5401   BIC:                         1.600e+05\n",
       "Df Model:                           2                                         \n",
       "Covariance Type:            nonrobust                                         \n",
       "===============================================================================\n",
       "                  coef    std err          t      P>|t|      [95.0% Conf. Int.]\n",
       "-------------------------------------------------------------------------------\n",
       "const        6.998e-94   4.33e-95     16.163      0.000     6.15e-94  7.85e-94 \n",
       "power_1     -1.159e-48   7.17e-50    -16.163      0.000     -1.3e-48 -1.02e-48 \n",
       "power_2      4.486e-55   2.78e-56     16.163      0.000     3.94e-55  5.03e-55 \n",
       "power_3      4.959e-60   3.07e-61     16.163      0.000     4.36e-60  5.56e-60 \n",
       "power_4    -3.275e-101  5.93e-102     -5.527      0.000   -4.44e-101 -2.11e-101\n",
       "power_5      6.108e-86   5.22e-87     11.691      0.000     5.08e-86  7.13e-86 \n",
       "power_6      1.367e-70   8.45e-72     16.163      0.000      1.2e-70  1.53e-70 \n",
       "power_7      1.036e-66   6.41e-68     16.163      0.000      9.1e-67  1.16e-66 \n",
       "power_8      7.699e-63   4.76e-64     16.163      0.000     6.77e-63  8.63e-63 \n",
       "power_9      5.544e-59   3.43e-60     16.163      0.000     4.87e-59  6.22e-59 \n",
       "power_10     3.787e-55   2.34e-56     16.163      0.000     3.33e-55  4.25e-55 \n",
       "power_11     2.365e-51   1.46e-52     16.163      0.000     2.08e-51  2.65e-51 \n",
       "power_12      1.25e-47   7.73e-49     16.163      0.000      1.1e-47   1.4e-47 \n",
       "power_13     4.466e-44   2.76e-45     16.163      0.000     3.92e-44  5.01e-44 \n",
       "power_14    -6.957e-48   4.34e-49    -16.044      0.000    -7.81e-48 -6.11e-48 \n",
       "power_15     2.702e-52    1.7e-53     15.939      0.000     2.37e-52  3.03e-52 \n",
       "==============================================================================\n",
       "Omnibus:                     3030.487   Durbin-Watson:                   0.206\n",
       "Prob(Omnibus):                  0.000   Jarque-Bera (JB):            77036.642\n",
       "Skew:                           2.179   Prob(JB):                         0.00\n",
       "Kurtosis:                      20.976   Cond. No.                     5.41e+62\n",
       "==============================================================================\n",
       "\n",
       "Warnings:\n",
       "[1] Standard Errors assume that the covariance matrix of the errors is correctly specified.\n",
       "[2] The condition number is large, 5.41e+62. This might indicate that there are\n",
       "strong multicollinearity or other numerical problems.\n",
       "\"\"\""
      ]
     },
     "execution_count": 37,
     "metadata": {},
     "output_type": "execute_result"
    }
   ],
   "source": [
    "poly15_data1 = polynomial_dataframe(dataset1['sqft_living'], 15)\n",
    "poly15_data1 = sm.add_constant(poly15_data1)\n",
    "poly15_model1 = sm.OLS(dataset1['price'],poly15_data1.astype(float))\n",
    "poly15_model1.fit().summary()"
   ]
  },
  {
   "cell_type": "code",
   "execution_count": 38,
   "metadata": {
    "collapsed": false
   },
   "outputs": [
    {
     "data": {
      "text/html": [
       "<table class=\"simpletable\">\n",
       "<caption>OLS Regression Results</caption>\n",
       "<tr>\n",
       "  <th>Dep. Variable:</th>          <td>price</td>      <th>  R-squared:         </th> <td>  -2.111</td> \n",
       "</tr>\n",
       "<tr>\n",
       "  <th>Model:</th>                   <td>OLS</td>       <th>  Adj. R-squared:    </th> <td>  -2.112</td> \n",
       "</tr>\n",
       "<tr>\n",
       "  <th>Method:</th>             <td>Least Squares</td>  <th>  F-statistic:       </th> <td>  -1830.</td> \n",
       "</tr>\n",
       "<tr>\n",
       "  <th>Date:</th>             <td>Thu, 28 Jul 2016</td> <th>  Prob (F-statistic):</th>  <td>  1.00</td>  \n",
       "</tr>\n",
       "<tr>\n",
       "  <th>Time:</th>                 <td>13:06:21</td>     <th>  Log-Likelihood:    </th> <td> -79569.</td> \n",
       "</tr>\n",
       "<tr>\n",
       "  <th>No. Observations:</th>      <td>  5398</td>      <th>  AIC:               </th> <td>1.591e+05</td>\n",
       "</tr>\n",
       "<tr>\n",
       "  <th>Df Residuals:</th>          <td>  5395</td>      <th>  BIC:               </th> <td>1.592e+05</td>\n",
       "</tr>\n",
       "<tr>\n",
       "  <th>Df Model:</th>              <td>     2</td>      <th>                     </th>     <td> </td>    \n",
       "</tr>\n",
       "<tr>\n",
       "  <th>Covariance Type:</th>      <td>nonrobust</td>    <th>                     </th>     <td> </td>    \n",
       "</tr>\n",
       "</table>\n",
       "<table class=\"simpletable\">\n",
       "<tr>\n",
       "      <td></td>        <th>coef</th>     <th>std err</th>      <th>t</th>      <th>P>|t|</th> <th>[95.0% Conf. Int.]</th> \n",
       "</tr>\n",
       "<tr>\n",
       "  <th>const</th>    <td> 3.518e-90</td> <td> 1.88e-91</td> <td>   18.760</td> <td> 0.000</td> <td> 3.15e-90  3.89e-90</td>\n",
       "</tr>\n",
       "<tr>\n",
       "  <th>power_1</th>  <td>-3.094e-48</td> <td> 1.65e-49</td> <td>  -18.760</td> <td> 0.000</td> <td>-3.42e-48 -2.77e-48</td>\n",
       "</tr>\n",
       "<tr>\n",
       "  <th>power_2</th>  <td>-9.089e-54</td> <td> 4.84e-55</td> <td>  -18.760</td> <td> 0.000</td> <td>   -1e-53 -8.14e-54</td>\n",
       "</tr>\n",
       "<tr>\n",
       "  <th>power_3</th>  <td> 1.062e-57</td> <td> 5.66e-59</td> <td>   18.760</td> <td> 0.000</td> <td> 9.51e-58  1.17e-57</td>\n",
       "</tr>\n",
       "<tr>\n",
       "  <th>power_4</th>  <td> 1.799e-97</td> <td> 1.82e-98</td> <td>    9.883</td> <td> 0.000</td> <td> 1.44e-97  2.16e-97</td>\n",
       "</tr>\n",
       "<tr>\n",
       "  <th>power_5</th>  <td> 1.604e-71</td> <td> 8.55e-73</td> <td>   18.760</td> <td> 0.000</td> <td> 1.44e-71  1.77e-71</td>\n",
       "</tr>\n",
       "<tr>\n",
       "  <th>power_6</th>  <td> 8.767e-68</td> <td> 4.67e-69</td> <td>   18.760</td> <td> 0.000</td> <td> 7.85e-68  9.68e-68</td>\n",
       "</tr>\n",
       "<tr>\n",
       "  <th>power_7</th>  <td> 4.711e-64</td> <td> 2.51e-65</td> <td>   18.760</td> <td> 0.000</td> <td> 4.22e-64   5.2e-64</td>\n",
       "</tr>\n",
       "<tr>\n",
       "  <th>power_8</th>  <td> 2.476e-60</td> <td> 1.32e-61</td> <td>   18.760</td> <td> 0.000</td> <td> 2.22e-60  2.73e-60</td>\n",
       "</tr>\n",
       "<tr>\n",
       "  <th>power_9</th>  <td> 1.256e-56</td> <td>  6.7e-58</td> <td>   18.760</td> <td> 0.000</td> <td> 1.12e-56  1.39e-56</td>\n",
       "</tr>\n",
       "<tr>\n",
       "  <th>power_10</th> <td> 6.021e-53</td> <td> 3.21e-54</td> <td>   18.760</td> <td> 0.000</td> <td> 5.39e-53  6.65e-53</td>\n",
       "</tr>\n",
       "<tr>\n",
       "  <th>power_11</th> <td> 2.628e-49</td> <td>  1.4e-50</td> <td>   18.760</td> <td> 0.000</td> <td> 2.35e-49   2.9e-49</td>\n",
       "</tr>\n",
       "<tr>\n",
       "  <th>power_12</th> <td>  9.66e-46</td> <td> 5.15e-47</td> <td>   18.760</td> <td> 0.000</td> <td> 8.65e-46  1.07e-45</td>\n",
       "</tr>\n",
       "<tr>\n",
       "  <th>power_13</th> <td> 2.391e-42</td> <td> 1.27e-43</td> <td>   18.760</td> <td> 0.000</td> <td> 2.14e-42  2.64e-42</td>\n",
       "</tr>\n",
       "<tr>\n",
       "  <th>power_14</th> <td>-5.717e-46</td> <td> 3.09e-47</td> <td>  -18.482</td> <td> 0.000</td> <td>-6.32e-46 -5.11e-46</td>\n",
       "</tr>\n",
       "<tr>\n",
       "  <th>power_15</th> <td> 3.391e-50</td> <td> 1.86e-51</td> <td>   18.256</td> <td> 0.000</td> <td> 3.03e-50  3.76e-50</td>\n",
       "</tr>\n",
       "</table>\n",
       "<table class=\"simpletable\">\n",
       "<tr>\n",
       "  <th>Omnibus:</th>       <td>2179.093</td> <th>  Durbin-Watson:     </th> <td>   0.205</td> \n",
       "</tr>\n",
       "<tr>\n",
       "  <th>Prob(Omnibus):</th>  <td> 0.000</td>  <th>  Jarque-Bera (JB):  </th> <td>39118.025</td>\n",
       "</tr>\n",
       "<tr>\n",
       "  <th>Skew:</th>           <td> 1.465</td>  <th>  Prob(JB):          </th> <td>    0.00</td> \n",
       "</tr>\n",
       "<tr>\n",
       "  <th>Kurtosis:</th>       <td>15.858</td>  <th>  Cond. No.          </th> <td>1.95e+62</td> \n",
       "</tr>\n",
       "</table>"
      ],
      "text/plain": [
       "<class 'statsmodels.iolib.summary.Summary'>\n",
       "\"\"\"\n",
       "                            OLS Regression Results                            \n",
       "==============================================================================\n",
       "Dep. Variable:                  price   R-squared:                      -2.111\n",
       "Model:                            OLS   Adj. R-squared:                 -2.112\n",
       "Method:                 Least Squares   F-statistic:                    -1830.\n",
       "Date:                Thu, 28 Jul 2016   Prob (F-statistic):               1.00\n",
       "Time:                        13:06:21   Log-Likelihood:                -79569.\n",
       "No. Observations:                5398   AIC:                         1.591e+05\n",
       "Df Residuals:                    5395   BIC:                         1.592e+05\n",
       "Df Model:                           2                                         \n",
       "Covariance Type:            nonrobust                                         \n",
       "==============================================================================\n",
       "                 coef    std err          t      P>|t|      [95.0% Conf. Int.]\n",
       "------------------------------------------------------------------------------\n",
       "const       3.518e-90   1.88e-91     18.760      0.000      3.15e-90  3.89e-90\n",
       "power_1    -3.094e-48   1.65e-49    -18.760      0.000     -3.42e-48 -2.77e-48\n",
       "power_2    -9.089e-54   4.84e-55    -18.760      0.000        -1e-53 -8.14e-54\n",
       "power_3     1.062e-57   5.66e-59     18.760      0.000      9.51e-58  1.17e-57\n",
       "power_4     1.799e-97   1.82e-98      9.883      0.000      1.44e-97  2.16e-97\n",
       "power_5     1.604e-71   8.55e-73     18.760      0.000      1.44e-71  1.77e-71\n",
       "power_6     8.767e-68   4.67e-69     18.760      0.000      7.85e-68  9.68e-68\n",
       "power_7     4.711e-64   2.51e-65     18.760      0.000      4.22e-64   5.2e-64\n",
       "power_8     2.476e-60   1.32e-61     18.760      0.000      2.22e-60  2.73e-60\n",
       "power_9     1.256e-56    6.7e-58     18.760      0.000      1.12e-56  1.39e-56\n",
       "power_10    6.021e-53   3.21e-54     18.760      0.000      5.39e-53  6.65e-53\n",
       "power_11    2.628e-49    1.4e-50     18.760      0.000      2.35e-49   2.9e-49\n",
       "power_12     9.66e-46   5.15e-47     18.760      0.000      8.65e-46  1.07e-45\n",
       "power_13    2.391e-42   1.27e-43     18.760      0.000      2.14e-42  2.64e-42\n",
       "power_14   -5.717e-46   3.09e-47    -18.482      0.000     -6.32e-46 -5.11e-46\n",
       "power_15    3.391e-50   1.86e-51     18.256      0.000      3.03e-50  3.76e-50\n",
       "==============================================================================\n",
       "Omnibus:                     2179.093   Durbin-Watson:                   0.205\n",
       "Prob(Omnibus):                  0.000   Jarque-Bera (JB):            39118.025\n",
       "Skew:                           1.465   Prob(JB):                         0.00\n",
       "Kurtosis:                      15.858   Cond. No.                     1.95e+62\n",
       "==============================================================================\n",
       "\n",
       "Warnings:\n",
       "[1] Standard Errors assume that the covariance matrix of the errors is correctly specified.\n",
       "[2] The condition number is large, 1.95e+62. This might indicate that there are\n",
       "strong multicollinearity or other numerical problems.\n",
       "\"\"\""
      ]
     },
     "execution_count": 38,
     "metadata": {},
     "output_type": "execute_result"
    }
   ],
   "source": [
    "poly15_data2 = polynomial_dataframe(dataset2['sqft_living'], 15)\n",
    "poly15_data2 = sm.add_constant(poly15_data2)\n",
    "poly15_model2 = sm.OLS(dataset2['price'],poly15_data2.astype(float))\n",
    "poly15_model2.fit().summary()"
   ]
  },
  {
   "cell_type": "code",
   "execution_count": 39,
   "metadata": {
    "collapsed": false
   },
   "outputs": [
    {
     "data": {
      "text/html": [
       "<table class=\"simpletable\">\n",
       "<caption>OLS Regression Results</caption>\n",
       "<tr>\n",
       "  <th>Dep. Variable:</th>          <td>price</td>      <th>  R-squared:         </th> <td>  -1.688</td> \n",
       "</tr>\n",
       "<tr>\n",
       "  <th>Model:</th>                   <td>OLS</td>       <th>  Adj. R-squared:    </th> <td>  -1.689</td> \n",
       "</tr>\n",
       "<tr>\n",
       "  <th>Method:</th>             <td>Least Squares</td>  <th>  F-statistic:       </th> <td>  -1697.</td> \n",
       "</tr>\n",
       "<tr>\n",
       "  <th>Date:</th>             <td>Thu, 28 Jul 2016</td> <th>  Prob (F-statistic):</th>  <td>  1.00</td>  \n",
       "</tr>\n",
       "<tr>\n",
       "  <th>Time:</th>                 <td>13:06:53</td>     <th>  Log-Likelihood:    </th> <td> -79894.</td> \n",
       "</tr>\n",
       "<tr>\n",
       "  <th>No. Observations:</th>      <td>  5409</td>      <th>  AIC:               </th> <td>1.598e+05</td>\n",
       "</tr>\n",
       "<tr>\n",
       "  <th>Df Residuals:</th>          <td>  5406</td>      <th>  BIC:               </th> <td>1.598e+05</td>\n",
       "</tr>\n",
       "<tr>\n",
       "  <th>Df Model:</th>              <td>     2</td>      <th>                     </th>     <td> </td>    \n",
       "</tr>\n",
       "<tr>\n",
       "  <th>Covariance Type:</th>      <td>nonrobust</td>    <th>                     </th>     <td> </td>    \n",
       "</tr>\n",
       "</table>\n",
       "<table class=\"simpletable\">\n",
       "<tr>\n",
       "      <td></td>        <th>coef</th>     <th>std err</th>      <th>t</th>      <th>P>|t|</th> <th>[95.0% Conf. Int.]</th> \n",
       "</tr>\n",
       "<tr>\n",
       "  <th>const</th>    <td> 9.178e-92</td> <td> 5.36e-93</td> <td>   17.107</td> <td> 0.000</td> <td> 8.13e-92  1.02e-91</td>\n",
       "</tr>\n",
       "<tr>\n",
       "  <th>power_1</th>  <td>-9.673e-49</td> <td> 5.65e-50</td> <td>  -17.107</td> <td> 0.000</td> <td>-1.08e-48 -8.56e-49</td>\n",
       "</tr>\n",
       "<tr>\n",
       "  <th>power_2</th>  <td> 3.104e-54</td> <td> 1.81e-55</td> <td>   17.107</td> <td> 0.000</td> <td> 2.75e-54  3.46e-54</td>\n",
       "</tr>\n",
       "<tr>\n",
       "  <th>power_3</th>  <td>         0</td> <td>        0</td> <td>      nan</td> <td>   nan</td> <td>        0         0</td>\n",
       "</tr>\n",
       "<tr>\n",
       "  <th>power_4</th>  <td> 9.775e-98</td> <td> 5.62e-99</td> <td>   17.398</td> <td> 0.000</td> <td> 8.67e-98  1.09e-97</td>\n",
       "</tr>\n",
       "<tr>\n",
       "  <th>power_5</th>  <td> 8.748e-73</td> <td> 5.11e-74</td> <td>   17.107</td> <td> 0.000</td> <td> 7.75e-73  9.75e-73</td>\n",
       "</tr>\n",
       "<tr>\n",
       "  <th>power_6</th>  <td> 5.735e-69</td> <td> 3.35e-70</td> <td>   17.107</td> <td> 0.000</td> <td> 5.08e-69  6.39e-69</td>\n",
       "</tr>\n",
       "<tr>\n",
       "  <th>power_7</th>  <td>  3.58e-65</td> <td> 2.09e-66</td> <td>   17.107</td> <td> 0.000</td> <td> 3.17e-65  3.99e-65</td>\n",
       "</tr>\n",
       "<tr>\n",
       "  <th>power_8</th>  <td> 2.185e-61</td> <td> 1.28e-62</td> <td>   17.107</td> <td> 0.000</td> <td> 1.93e-61  2.44e-61</td>\n",
       "</tr>\n",
       "<tr>\n",
       "  <th>power_9</th>  <td> 1.287e-57</td> <td> 7.52e-59</td> <td>   17.107</td> <td> 0.000</td> <td> 1.14e-57  1.43e-57</td>\n",
       "</tr>\n",
       "<tr>\n",
       "  <th>power_10</th> <td>  7.16e-54</td> <td> 4.19e-55</td> <td>   17.107</td> <td> 0.000</td> <td> 6.34e-54  7.98e-54</td>\n",
       "</tr>\n",
       "<tr>\n",
       "  <th>power_11</th> <td> 3.625e-50</td> <td> 2.12e-51</td> <td>   17.107</td> <td> 0.000</td> <td> 3.21e-50  4.04e-50</td>\n",
       "</tr>\n",
       "<tr>\n",
       "  <th>power_12</th> <td> 1.546e-46</td> <td> 9.03e-48</td> <td>   17.107</td> <td> 0.000</td> <td> 1.37e-46  1.72e-46</td>\n",
       "</tr>\n",
       "<tr>\n",
       "  <th>power_13</th> <td> 4.436e-43</td> <td> 2.59e-44</td> <td>   17.107</td> <td> 0.000</td> <td> 3.93e-43  4.94e-43</td>\n",
       "</tr>\n",
       "<tr>\n",
       "  <th>power_14</th> <td>-8.991e-47</td> <td> 5.35e-48</td> <td>  -16.792</td> <td> 0.000</td> <td>   -1e-46 -7.94e-47</td>\n",
       "</tr>\n",
       "<tr>\n",
       "  <th>power_15</th> <td> 4.562e-51</td> <td> 2.77e-52</td> <td>   16.476</td> <td> 0.000</td> <td> 4.02e-51   5.1e-51</td>\n",
       "</tr>\n",
       "</table>\n",
       "<table class=\"simpletable\">\n",
       "<tr>\n",
       "  <th>Omnibus:</th>       <td>3045.479</td> <th>  Durbin-Watson:     </th> <td>   0.220</td> \n",
       "</tr>\n",
       "<tr>\n",
       "  <th>Prob(Omnibus):</th>  <td> 0.000</td>  <th>  Jarque-Bera (JB):  </th> <td>56425.268</td>\n",
       "</tr>\n",
       "<tr>\n",
       "  <th>Skew:</th>           <td> 2.300</td>  <th>  Prob(JB):          </th> <td>    0.00</td> \n",
       "</tr>\n",
       "<tr>\n",
       "  <th>Kurtosis:</th>       <td>18.139</td>  <th>  Cond. No.          </th> <td>1.41e+62</td> \n",
       "</tr>\n",
       "</table>"
      ],
      "text/plain": [
       "<class 'statsmodels.iolib.summary.Summary'>\n",
       "\"\"\"\n",
       "                            OLS Regression Results                            \n",
       "==============================================================================\n",
       "Dep. Variable:                  price   R-squared:                      -1.688\n",
       "Model:                            OLS   Adj. R-squared:                 -1.689\n",
       "Method:                 Least Squares   F-statistic:                    -1697.\n",
       "Date:                Thu, 28 Jul 2016   Prob (F-statistic):               1.00\n",
       "Time:                        13:06:53   Log-Likelihood:                -79894.\n",
       "No. Observations:                5409   AIC:                         1.598e+05\n",
       "Df Residuals:                    5406   BIC:                         1.598e+05\n",
       "Df Model:                           2                                         \n",
       "Covariance Type:            nonrobust                                         \n",
       "==============================================================================\n",
       "                 coef    std err          t      P>|t|      [95.0% Conf. Int.]\n",
       "------------------------------------------------------------------------------\n",
       "const       9.178e-92   5.36e-93     17.107      0.000      8.13e-92  1.02e-91\n",
       "power_1    -9.673e-49   5.65e-50    -17.107      0.000     -1.08e-48 -8.56e-49\n",
       "power_2     3.104e-54   1.81e-55     17.107      0.000      2.75e-54  3.46e-54\n",
       "power_3             0          0        nan        nan             0         0\n",
       "power_4     9.775e-98   5.62e-99     17.398      0.000      8.67e-98  1.09e-97\n",
       "power_5     8.748e-73   5.11e-74     17.107      0.000      7.75e-73  9.75e-73\n",
       "power_6     5.735e-69   3.35e-70     17.107      0.000      5.08e-69  6.39e-69\n",
       "power_7      3.58e-65   2.09e-66     17.107      0.000      3.17e-65  3.99e-65\n",
       "power_8     2.185e-61   1.28e-62     17.107      0.000      1.93e-61  2.44e-61\n",
       "power_9     1.287e-57   7.52e-59     17.107      0.000      1.14e-57  1.43e-57\n",
       "power_10     7.16e-54   4.19e-55     17.107      0.000      6.34e-54  7.98e-54\n",
       "power_11    3.625e-50   2.12e-51     17.107      0.000      3.21e-50  4.04e-50\n",
       "power_12    1.546e-46   9.03e-48     17.107      0.000      1.37e-46  1.72e-46\n",
       "power_13    4.436e-43   2.59e-44     17.107      0.000      3.93e-43  4.94e-43\n",
       "power_14   -8.991e-47   5.35e-48    -16.792      0.000        -1e-46 -7.94e-47\n",
       "power_15    4.562e-51   2.77e-52     16.476      0.000      4.02e-51   5.1e-51\n",
       "==============================================================================\n",
       "Omnibus:                     3045.479   Durbin-Watson:                   0.220\n",
       "Prob(Omnibus):                  0.000   Jarque-Bera (JB):            56425.268\n",
       "Skew:                           2.300   Prob(JB):                         0.00\n",
       "Kurtosis:                      18.139   Cond. No.                     1.41e+62\n",
       "==============================================================================\n",
       "\n",
       "Warnings:\n",
       "[1] Standard Errors assume that the covariance matrix of the errors is correctly specified.\n",
       "[2] The condition number is large, 1.41e+62. This might indicate that there are\n",
       "strong multicollinearity or other numerical problems.\n",
       "\"\"\""
      ]
     },
     "execution_count": 39,
     "metadata": {},
     "output_type": "execute_result"
    }
   ],
   "source": [
    "poly15_data3 = polynomial_dataframe(dataset3['sqft_living'], 15)\n",
    "poly15_data3 = sm.add_constant(poly15_data3)\n",
    "poly15_model3 = sm.OLS(dataset3['price'],poly15_data3.astype(float))\n",
    "poly15_model3.fit().summary()"
   ]
  },
  {
   "cell_type": "code",
   "execution_count": 40,
   "metadata": {
    "collapsed": false
   },
   "outputs": [
    {
     "data": {
      "text/html": [
       "<table class=\"simpletable\">\n",
       "<caption>OLS Regression Results</caption>\n",
       "<tr>\n",
       "  <th>Dep. Variable:</th>          <td>price</td>      <th>  R-squared:         </th> <td>  -1.669</td> \n",
       "</tr>\n",
       "<tr>\n",
       "  <th>Model:</th>                   <td>OLS</td>       <th>  Adj. R-squared:    </th> <td>  -1.670</td> \n",
       "</tr>\n",
       "<tr>\n",
       "  <th>Method:</th>             <td>Least Squares</td>  <th>  F-statistic:       </th> <td>  -1688.</td> \n",
       "</tr>\n",
       "<tr>\n",
       "  <th>Date:</th>             <td>Thu, 28 Jul 2016</td> <th>  Prob (F-statistic):</th>  <td>  1.00</td>  \n",
       "</tr>\n",
       "<tr>\n",
       "  <th>Time:</th>                 <td>13:07:14</td>     <th>  Log-Likelihood:    </th> <td> -79198.</td> \n",
       "</tr>\n",
       "<tr>\n",
       "  <th>No. Observations:</th>      <td>  5402</td>      <th>  AIC:               </th> <td>1.584e+05</td>\n",
       "</tr>\n",
       "<tr>\n",
       "  <th>Df Residuals:</th>          <td>  5399</td>      <th>  BIC:               </th> <td>1.584e+05</td>\n",
       "</tr>\n",
       "<tr>\n",
       "  <th>Df Model:</th>              <td>     2</td>      <th>                     </th>     <td> </td>    \n",
       "</tr>\n",
       "<tr>\n",
       "  <th>Covariance Type:</th>      <td>nonrobust</td>    <th>                     </th>     <td> </td>    \n",
       "</tr>\n",
       "</table>\n",
       "<table class=\"simpletable\">\n",
       "<tr>\n",
       "      <td></td>        <th>coef</th>     <th>std err</th>      <th>t</th>      <th>P>|t|</th> <th>[95.0% Conf. Int.]</th> \n",
       "</tr>\n",
       "<tr>\n",
       "  <th>const</th>    <td> 1.071e-79</td> <td> 3.64e-81</td> <td>   29.443</td> <td> 0.000</td> <td>    1e-79  1.14e-79</td>\n",
       "</tr>\n",
       "<tr>\n",
       "  <th>power_1</th>  <td>-5.975e-39</td> <td> 2.03e-40</td> <td>  -29.443</td> <td> 0.000</td> <td>-6.37e-39 -5.58e-39</td>\n",
       "</tr>\n",
       "<tr>\n",
       "  <th>power_2</th>  <td>-2.003e-44</td> <td>  6.8e-46</td> <td>  -29.443</td> <td> 0.000</td> <td>-2.14e-44 -1.87e-44</td>\n",
       "</tr>\n",
       "<tr>\n",
       "  <th>power_3</th>  <td> 4.072e-49</td> <td> 1.38e-50</td> <td>   29.443</td> <td> 0.000</td> <td>  3.8e-49  4.34e-49</td>\n",
       "</tr>\n",
       "<tr>\n",
       "  <th>power_4</th>  <td> 4.094e-53</td> <td> 1.39e-54</td> <td>   29.443</td> <td> 0.000</td> <td> 3.82e-53  4.37e-53</td>\n",
       "</tr>\n",
       "<tr>\n",
       "  <th>power_5</th>  <td> 5.363e-71</td> <td> 2.96e-72</td> <td>   18.112</td> <td> 0.000</td> <td> 4.78e-71  5.94e-71</td>\n",
       "</tr>\n",
       "<tr>\n",
       "  <th>power_6</th>  <td> 5.368e-58</td> <td> 1.82e-59</td> <td>   29.443</td> <td> 0.000</td> <td> 5.01e-58  5.73e-58</td>\n",
       "</tr>\n",
       "<tr>\n",
       "  <th>power_7</th>  <td> 2.139e-54</td> <td> 7.26e-56</td> <td>   29.443</td> <td> 0.000</td> <td>    2e-54  2.28e-54</td>\n",
       "</tr>\n",
       "<tr>\n",
       "  <th>power_8</th>  <td> 8.136e-51</td> <td> 2.76e-52</td> <td>   29.443</td> <td> 0.000</td> <td> 7.59e-51  8.68e-51</td>\n",
       "</tr>\n",
       "<tr>\n",
       "  <th>power_9</th>  <td> 2.875e-47</td> <td> 9.77e-49</td> <td>   29.443</td> <td> 0.000</td> <td> 2.68e-47  3.07e-47</td>\n",
       "</tr>\n",
       "<tr>\n",
       "  <th>power_10</th> <td>  9.02e-44</td> <td> 3.06e-45</td> <td>   29.443</td> <td> 0.000</td> <td> 8.42e-44  9.62e-44</td>\n",
       "</tr>\n",
       "<tr>\n",
       "  <th>power_11</th> <td> 2.293e-40</td> <td> 7.79e-42</td> <td>   29.443</td> <td> 0.000</td> <td> 2.14e-40  2.45e-40</td>\n",
       "</tr>\n",
       "<tr>\n",
       "  <th>power_12</th> <td> 3.687e-37</td> <td> 1.25e-38</td> <td>   29.443</td> <td> 0.000</td> <td> 3.44e-37  3.93e-37</td>\n",
       "</tr>\n",
       "<tr>\n",
       "  <th>power_13</th> <td>-1.549e-40</td> <td> 5.43e-42</td> <td>  -28.530</td> <td> 0.000</td> <td>-1.66e-40 -1.44e-40</td>\n",
       "</tr>\n",
       "<tr>\n",
       "  <th>power_14</th> <td> 2.163e-44</td> <td>  7.8e-46</td> <td>   27.734</td> <td> 0.000</td> <td> 2.01e-44  2.32e-44</td>\n",
       "</tr>\n",
       "<tr>\n",
       "  <th>power_15</th> <td>-1.002e-48</td> <td> 3.71e-50</td> <td>  -27.036</td> <td> 0.000</td> <td>-1.07e-48  -9.3e-49</td>\n",
       "</tr>\n",
       "</table>\n",
       "<table class=\"simpletable\">\n",
       "<tr>\n",
       "  <th>Omnibus:</th>       <td>1499.456</td> <th>  Durbin-Watson:     </th>  <td>   0.274</td> \n",
       "</tr>\n",
       "<tr>\n",
       "  <th>Prob(Omnibus):</th>  <td> 0.000</td>  <th>  Jarque-Bera (JB):  </th> <td>102981.375</td>\n",
       "</tr>\n",
       "<tr>\n",
       "  <th>Skew:</th>           <td>-0.401</td>  <th>  Prob(JB):          </th>  <td>    0.00</td> \n",
       "</tr>\n",
       "<tr>\n",
       "  <th>Kurtosis:</th>       <td>24.375</td>  <th>  Cond. No.          </th>  <td>2.42e+61</td> \n",
       "</tr>\n",
       "</table>"
      ],
      "text/plain": [
       "<class 'statsmodels.iolib.summary.Summary'>\n",
       "\"\"\"\n",
       "                            OLS Regression Results                            \n",
       "==============================================================================\n",
       "Dep. Variable:                  price   R-squared:                      -1.669\n",
       "Model:                            OLS   Adj. R-squared:                 -1.670\n",
       "Method:                 Least Squares   F-statistic:                    -1688.\n",
       "Date:                Thu, 28 Jul 2016   Prob (F-statistic):               1.00\n",
       "Time:                        13:07:14   Log-Likelihood:                -79198.\n",
       "No. Observations:                5402   AIC:                         1.584e+05\n",
       "Df Residuals:                    5399   BIC:                         1.584e+05\n",
       "Df Model:                           2                                         \n",
       "Covariance Type:            nonrobust                                         \n",
       "==============================================================================\n",
       "                 coef    std err          t      P>|t|      [95.0% Conf. Int.]\n",
       "------------------------------------------------------------------------------\n",
       "const       1.071e-79   3.64e-81     29.443      0.000         1e-79  1.14e-79\n",
       "power_1    -5.975e-39   2.03e-40    -29.443      0.000     -6.37e-39 -5.58e-39\n",
       "power_2    -2.003e-44    6.8e-46    -29.443      0.000     -2.14e-44 -1.87e-44\n",
       "power_3     4.072e-49   1.38e-50     29.443      0.000       3.8e-49  4.34e-49\n",
       "power_4     4.094e-53   1.39e-54     29.443      0.000      3.82e-53  4.37e-53\n",
       "power_5     5.363e-71   2.96e-72     18.112      0.000      4.78e-71  5.94e-71\n",
       "power_6     5.368e-58   1.82e-59     29.443      0.000      5.01e-58  5.73e-58\n",
       "power_7     2.139e-54   7.26e-56     29.443      0.000         2e-54  2.28e-54\n",
       "power_8     8.136e-51   2.76e-52     29.443      0.000      7.59e-51  8.68e-51\n",
       "power_9     2.875e-47   9.77e-49     29.443      0.000      2.68e-47  3.07e-47\n",
       "power_10     9.02e-44   3.06e-45     29.443      0.000      8.42e-44  9.62e-44\n",
       "power_11    2.293e-40   7.79e-42     29.443      0.000      2.14e-40  2.45e-40\n",
       "power_12    3.687e-37   1.25e-38     29.443      0.000      3.44e-37  3.93e-37\n",
       "power_13   -1.549e-40   5.43e-42    -28.530      0.000     -1.66e-40 -1.44e-40\n",
       "power_14    2.163e-44    7.8e-46     27.734      0.000      2.01e-44  2.32e-44\n",
       "power_15   -1.002e-48   3.71e-50    -27.036      0.000     -1.07e-48  -9.3e-49\n",
       "==============================================================================\n",
       "Omnibus:                     1499.456   Durbin-Watson:                   0.274\n",
       "Prob(Omnibus):                  0.000   Jarque-Bera (JB):           102981.375\n",
       "Skew:                          -0.401   Prob(JB):                         0.00\n",
       "Kurtosis:                      24.375   Cond. No.                     2.42e+61\n",
       "==============================================================================\n",
       "\n",
       "Warnings:\n",
       "[1] Standard Errors assume that the covariance matrix of the errors is correctly specified.\n",
       "[2] The condition number is large, 2.42e+61. This might indicate that there are\n",
       "strong multicollinearity or other numerical problems.\n",
       "\"\"\""
      ]
     },
     "execution_count": 40,
     "metadata": {},
     "output_type": "execute_result"
    }
   ],
   "source": [
    "poly15_data4 = polynomial_dataframe(dataset4['sqft_living'], 15)\n",
    "poly15_data4 = sm.add_constant(poly15_data4)\n",
    "poly15_model4 = sm.OLS(dataset4['price'],poly15_data4.astype(float))\n",
    "poly15_model4.fit().summary()"
   ]
  },
  {
   "cell_type": "markdown",
   "metadata": {},
   "source": [
    "# Find best model"
   ]
  },
  {
   "cell_type": "code",
   "execution_count": 80,
   "metadata": {
    "collapsed": true
   },
   "outputs": [],
   "source": [
    "training_dataset = pd.read_csv('wk3_kc_house_train_data.csv')\n",
    "validation_dataset = pd.read_csv('wk3_kc_house_valid_data.csv')\n",
    "test_dataset = pd.read_csv('wk3_kc_house_test_data.csv')"
   ]
  },
  {
   "cell_type": "code",
   "execution_count": 104,
   "metadata": {
    "collapsed": false
   },
   "outputs": [],
   "source": [
    "# loop through power 1 to 15 and report rss on validation set\n",
    "def model_power_N(n):\n",
    "    for power in range(1, n+1):\n",
    "        training = polynomial_dataframe(training_dataset['sqft_living'], power)\n",
    "        training = sm.add_constant(training)\n",
    "        validation = sm.add_constant(polynomial_dataframe(validation_dataset['sqft_living'], power))\n",
    "        model = sm.OLS(training_dataset['price'],training.astype(float))\n",
    "        validation_prediction = model.fit().predict(validation)\n",
    "        print ((validation_dataset['price'] - validation_prediction)**2).sum()"
   ]
  },
  {
   "cell_type": "code",
   "execution_count": 105,
   "metadata": {
    "collapsed": false,
    "scrolled": true
   },
   "outputs": [
    {
     "name": "stdout",
     "output_type": "stream",
     "text": [
      "6.290978863e+14\n",
      "6.23955062706e+14\n",
      "6.25820277867e+14\n",
      "6.07701763581e+14\n",
      "6.35093852158e+14\n",
      "1.7776936805e+15\n",
      "1.00744094225e+16\n",
      "4.8506719556e+16\n",
      "2.1833766138e+17\n",
      "9.45596860232e+17\n",
      "2.10642914695e+17\n",
      "5.24189112221e+17\n",
      "1.42031560019e+18\n",
      "4.02649551232e+18\n",
      "1.16529985811e+19\n"
     ]
    }
   ],
   "source": [
    "model_power_N(15)"
   ]
  },
  {
   "cell_type": "code",
   "execution_count": 65,
   "metadata": {
    "collapsed": false
   },
   "outputs": [
    {
     "data": {
      "text/plain": [
       "135542039274080.55"
      ]
     },
     "execution_count": 65,
     "metadata": {},
     "output_type": "execute_result"
    }
   ],
   "source": [
    "training4 = polynomial_dataframe(training_dataset['sqft_living'], 2)\n",
    "training4 = sm.add_constant(training4)\n",
    "test4 = sm.add_constant(polynomial_dataframe(test_dataset['sqft_living'], 2))\n",
    "model4 = sm.OLS(training_dataset['price'],training4.astype(float))\n",
    "test_prediction = model4.fit().predict(test4)\n",
    "((test_dataset['price'] - test_prediction)**2).sum()"
   ]
  },
  {
   "cell_type": "code",
   "execution_count": 55,
   "metadata": {
    "collapsed": false
   },
   "outputs": [
    {
     "name": "stdout",
     "output_type": "stream",
     "text": [
      "1\n",
      "2\n"
     ]
    }
   ],
   "source": [
    "for n in range(1,3):\n",
    "    print n"
   ]
  },
  {
   "cell_type": "code",
   "execution_count": 96,
   "metadata": {
    "collapsed": false
   },
   "outputs": [
    {
     "data": {
      "text/html": [
       "<pre>Linear regression:</pre>"
      ],
      "text/plain": [
       "Linear regression:"
      ]
     },
     "metadata": {},
     "output_type": "display_data"
    },
    {
     "data": {
      "text/html": [
       "<pre>--------------------------------------------------------</pre>"
      ],
      "text/plain": [
       "--------------------------------------------------------"
      ]
     },
     "metadata": {},
     "output_type": "display_data"
    },
    {
     "data": {
      "text/html": [
       "<pre>Number of examples          : 9761</pre>"
      ],
      "text/plain": [
       "Number of examples          : 9761"
      ]
     },
     "metadata": {},
     "output_type": "display_data"
    },
    {
     "data": {
      "text/html": [
       "<pre>Number of features          : 5</pre>"
      ],
      "text/plain": [
       "Number of features          : 5"
      ]
     },
     "metadata": {},
     "output_type": "display_data"
    },
    {
     "data": {
      "text/html": [
       "<pre>Number of unpacked features : 5</pre>"
      ],
      "text/plain": [
       "Number of unpacked features : 5"
      ]
     },
     "metadata": {},
     "output_type": "display_data"
    },
    {
     "data": {
      "text/html": [
       "<pre>Number of coefficients    : 6</pre>"
      ],
      "text/plain": [
       "Number of coefficients    : 6"
      ]
     },
     "metadata": {},
     "output_type": "display_data"
    },
    {
     "data": {
      "text/html": [
       "<pre>Starting Newton Method</pre>"
      ],
      "text/plain": [
       "Starting Newton Method"
      ]
     },
     "metadata": {},
     "output_type": "display_data"
    },
    {
     "data": {
      "text/html": [
       "<pre>--------------------------------------------------------</pre>"
      ],
      "text/plain": [
       "--------------------------------------------------------"
      ]
     },
     "metadata": {},
     "output_type": "display_data"
    },
    {
     "data": {
      "text/html": [
       "<pre>+-----------+----------+--------------+--------------------+----------------------+---------------+-----------------+</pre>"
      ],
      "text/plain": [
       "+-----------+----------+--------------+--------------------+----------------------+---------------+-----------------+"
      ]
     },
     "metadata": {},
     "output_type": "display_data"
    },
    {
     "data": {
      "text/html": [
       "<pre>| Iteration | Passes   | Elapsed Time | Training-max_error | Validation-max_error | Training-rmse | Validation-rmse |</pre>"
      ],
      "text/plain": [
       "| Iteration | Passes   | Elapsed Time | Training-max_error | Validation-max_error | Training-rmse | Validation-rmse |"
      ]
     },
     "metadata": {},
     "output_type": "display_data"
    },
    {
     "data": {
      "text/html": [
       "<pre>+-----------+----------+--------------+--------------------+----------------------+---------------+-----------------+</pre>"
      ],
      "text/plain": [
       "+-----------+----------+--------------+--------------------+----------------------+---------------+-----------------+"
      ]
     },
     "metadata": {},
     "output_type": "display_data"
    },
    {
     "data": {
      "text/html": [
       "<pre>| 1         | 2        | 0.037774     | 2180170.320002     | 2013745.457559       | 251539.601836 | 247270.933743   |</pre>"
      ],
      "text/plain": [
       "| 1         | 2        | 0.037774     | 2180170.320002     | 2013745.457559       | 251539.601836 | 247270.933743   |"
      ]
     },
     "metadata": {},
     "output_type": "display_data"
    },
    {
     "data": {
      "text/html": [
       "<pre>+-----------+----------+--------------+--------------------+----------------------+---------------+-----------------+</pre>"
      ],
      "text/plain": [
       "+-----------+----------+--------------+--------------------+----------------------+---------------+-----------------+"
      ]
     },
     "metadata": {},
     "output_type": "display_data"
    },
    {
     "data": {
      "text/html": [
       "<pre>SUCCESS: Optimal solution found.</pre>"
      ],
      "text/plain": [
       "SUCCESS: Optimal solution found."
      ]
     },
     "metadata": {},
     "output_type": "display_data"
    },
    {
     "data": {
      "text/html": [
       "<pre></pre>"
      ],
      "text/plain": []
     },
     "metadata": {},
     "output_type": "display_data"
    },
    {
     "name": "stdout",
     "output_type": "stream",
     "text": [
      "1.35553841832e+14\n"
     ]
    }
   ],
   "source": [
    "import graphlab as gl\n",
    "training4 = polynomial_dataframe(training_dataset['sqft_living'], 5)\n",
    "training4['price'] = training_dataset['price']\n",
    "test = polynomial_dataframe(test_dataset['sqft_living'], 5)\n",
    "test['price'] = test_dataset['price']\n",
    "model=graphlab.linear_regression.create(gl.SFrame(training4), target = 'price', features = ['power_1','power_2','power_3','power_4','power_5'], validation_set = gl.SFrame(test))\n",
    "test_prediction = model.predict(gl.SFrame(test)['power_1','power_2','power_3','power_4','power_5'])\n",
    "print ((test_dataset['price'] - test_prediction)**2).sum()"
   ]
  },
  {
   "cell_type": "code",
   "execution_count": 97,
   "metadata": {
    "collapsed": false
   },
   "outputs": [
    {
     "data": {
      "text/html": [
       "<pre>Linear regression:</pre>"
      ],
      "text/plain": [
       "Linear regression:"
      ]
     },
     "metadata": {},
     "output_type": "display_data"
    },
    {
     "data": {
      "text/html": [
       "<pre>--------------------------------------------------------</pre>"
      ],
      "text/plain": [
       "--------------------------------------------------------"
      ]
     },
     "metadata": {},
     "output_type": "display_data"
    },
    {
     "data": {
      "text/html": [
       "<pre>Number of examples          : 9761</pre>"
      ],
      "text/plain": [
       "Number of examples          : 9761"
      ]
     },
     "metadata": {},
     "output_type": "display_data"
    },
    {
     "data": {
      "text/html": [
       "<pre>Number of features          : 6</pre>"
      ],
      "text/plain": [
       "Number of features          : 6"
      ]
     },
     "metadata": {},
     "output_type": "display_data"
    },
    {
     "data": {
      "text/html": [
       "<pre>Number of unpacked features : 6</pre>"
      ],
      "text/plain": [
       "Number of unpacked features : 6"
      ]
     },
     "metadata": {},
     "output_type": "display_data"
    },
    {
     "data": {
      "text/html": [
       "<pre>Number of coefficients    : 7</pre>"
      ],
      "text/plain": [
       "Number of coefficients    : 7"
      ]
     },
     "metadata": {},
     "output_type": "display_data"
    },
    {
     "data": {
      "text/html": [
       "<pre>Starting Newton Method</pre>"
      ],
      "text/plain": [
       "Starting Newton Method"
      ]
     },
     "metadata": {},
     "output_type": "display_data"
    },
    {
     "data": {
      "text/html": [
       "<pre>--------------------------------------------------------</pre>"
      ],
      "text/plain": [
       "--------------------------------------------------------"
      ]
     },
     "metadata": {},
     "output_type": "display_data"
    },
    {
     "data": {
      "text/html": [
       "<pre>+-----------+----------+--------------+--------------------+----------------------+---------------+-----------------+</pre>"
      ],
      "text/plain": [
       "+-----------+----------+--------------+--------------------+----------------------+---------------+-----------------+"
      ]
     },
     "metadata": {},
     "output_type": "display_data"
    },
    {
     "data": {
      "text/html": [
       "<pre>| Iteration | Passes   | Elapsed Time | Training-max_error | Validation-max_error | Training-rmse | Validation-rmse |</pre>"
      ],
      "text/plain": [
       "| Iteration | Passes   | Elapsed Time | Training-max_error | Validation-max_error | Training-rmse | Validation-rmse |"
      ]
     },
     "metadata": {},
     "output_type": "display_data"
    },
    {
     "data": {
      "text/html": [
       "<pre>+-----------+----------+--------------+--------------------+----------------------+---------------+-----------------+</pre>"
      ],
      "text/plain": [
       "+-----------+----------+--------------+--------------------+----------------------+---------------+-----------------+"
      ]
     },
     "metadata": {},
     "output_type": "display_data"
    },
    {
     "data": {
      "text/html": [
       "<pre>| 1         | 2        | 0.054979     | 2167607.098290     | 1950611.103763       | 251031.834802 | 246448.026477   |</pre>"
      ],
      "text/plain": [
       "| 1         | 2        | 0.054979     | 2167607.098290     | 1950611.103763       | 251031.834802 | 246448.026477   |"
      ]
     },
     "metadata": {},
     "output_type": "display_data"
    },
    {
     "data": {
      "text/html": [
       "<pre>+-----------+----------+--------------+--------------------+----------------------+---------------+-----------------+</pre>"
      ],
      "text/plain": [
       "+-----------+----------+--------------+--------------------+----------------------+---------------+-----------------+"
      ]
     },
     "metadata": {},
     "output_type": "display_data"
    },
    {
     "data": {
      "text/html": [
       "<pre>SUCCESS: Optimal solution found.</pre>"
      ],
      "text/plain": [
       "SUCCESS: Optimal solution found."
      ]
     },
     "metadata": {},
     "output_type": "display_data"
    },
    {
     "data": {
      "text/html": [
       "<pre></pre>"
      ],
      "text/plain": []
     },
     "metadata": {},
     "output_type": "display_data"
    },
    {
     "name": "stdout",
     "output_type": "stream",
     "text": [
      "1.34653108165e+14\n"
     ]
    }
   ],
   "source": [
    "import graphlab as gl\n",
    "training4 = polynomial_dataframe(training_dataset['sqft_living'], 6)\n",
    "training4['price'] = training_dataset['price']\n",
    "test = polynomial_dataframe(test_dataset['sqft_living'], 6)\n",
    "test['price'] = test_dataset['price']\n",
    "model=graphlab.linear_regression.create(gl.SFrame(training4), target = 'price', features = ['power_1','power_2','power_3','power_4','power_5','power_6'], validation_set = gl.SFrame(test))\n",
    "test_prediction = model.predict(gl.SFrame(test)['power_1','power_2','power_3','power_4','power_5','power_6'])\n",
    "print ((test_dataset['price'] - test_prediction)**2).sum()"
   ]
  },
  {
   "cell_type": "code",
   "execution_count": null,
   "metadata": {
    "collapsed": true
   },
   "outputs": [],
   "source": []
  }
 ],
 "metadata": {
  "kernelspec": {
   "display_name": "Python 2",
   "language": "python",
   "name": "python2"
  },
  "language_info": {
   "codemirror_mode": {
    "name": "ipython",
    "version": 2
   },
   "file_extension": ".py",
   "mimetype": "text/x-python",
   "name": "python",
   "nbconvert_exporter": "python",
   "pygments_lexer": "ipython2",
   "version": "2.7.11"
  }
 },
 "nbformat": 4,
 "nbformat_minor": 0
}
