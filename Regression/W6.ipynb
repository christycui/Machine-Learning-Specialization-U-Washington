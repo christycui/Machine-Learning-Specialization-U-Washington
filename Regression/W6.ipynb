{
 "cells": [
  {
   "cell_type": "code",
   "execution_count": 118,
   "metadata": {
    "collapsed": true
   },
   "outputs": [],
   "source": [
    "import numpy as np\n",
    "import pandas as pd"
   ]
  },
  {
   "cell_type": "code",
   "execution_count": 119,
   "metadata": {
    "collapsed": false
   },
   "outputs": [],
   "source": [
    "sales = pd.read_csv('kc_house_data_small.csv')\n",
    "sales_train = pd.read_csv('kc_house_data_small_train.csv')\n",
    "sales_test = pd.read_csv('kc_house_data_small_test.csv')\n",
    "sales_validation = pd.read_csv('kc_house_data_validation.csv')"
   ]
  },
  {
   "cell_type": "code",
   "execution_count": 120,
   "metadata": {
    "collapsed": true
   },
   "outputs": [],
   "source": [
    "def get_numpy_data(data,features,output):\n",
    "    constant_col = np.ones((len(data),1))\n",
    "    features_matrix = np.hstack((constant_col, data.as_matrix(features)))\n",
    "    output_array = data.as_matrix([output])\n",
    "    return (features_matrix, output_array)"
   ]
  },
  {
   "cell_type": "code",
   "execution_count": 121,
   "metadata": {
    "collapsed": true
   },
   "outputs": [],
   "source": [
    "def normalize_features(feature_matrix):\n",
    "    norms = np.linalg.norm(feature_matrix, axis=0)\n",
    "    normalized_features = feature_matrix / norms\n",
    "    return (normalized_features,norms)"
   ]
  },
  {
   "cell_type": "code",
   "execution_count": 122,
   "metadata": {
    "collapsed": true
   },
   "outputs": [],
   "source": [
    "features_train,output_train = get_numpy_data(sales_train,['bathrooms','waterfront','sqft_above','sqft_living15','grade','yr_renovated','bedrooms','zipcode','long','sqft_lot15','sqft_living','floors','condition','lat','sqft_basement','yr_built','sqft_lot','view'],'price')\n",
    "features_test,output_test = get_numpy_data(sales_test,['bathrooms','waterfront','sqft_above','sqft_living15','grade','yr_renovated','bedrooms','zipcode','long','sqft_lot15','sqft_living','floors','condition','lat','sqft_basement','yr_built','sqft_lot','view'],'price')\n",
    "features_valid,output_valid = get_numpy_data(sales_validation,['bathrooms','waterfront','sqft_above','sqft_living15','grade','yr_renovated','bedrooms','zipcode','long','sqft_lot15','sqft_living','floors','condition','lat','sqft_basement','yr_built','sqft_lot','view'],'price')\n",
    "features_train, norms = normalize_features(features_train)\n",
    "features_test = features_test / norms\n",
    "features_valid = features_valid / norms"
   ]
  },
  {
   "cell_type": "markdown",
   "metadata": {},
   "source": [
    "## Compare the distance between two houses"
   ]
  },
  {
   "cell_type": "code",
   "execution_count": 22,
   "metadata": {
    "collapsed": false
   },
   "outputs": [
    {
     "name": "stdout",
     "output_type": "stream",
     "text": [
      "[ 0.01345102  0.01807473  0.          0.01362084  0.01375926  0.01564352\n",
      "  0.          0.01551285  0.01345762 -0.01346922  0.0016225   0.01759212\n",
      "  0.017059    0.0116321   0.01345387  0.02481682  0.01350306  0.00160518\n",
      "  0.05102365]\n",
      "[ 0.01345102  0.00602491  0.          0.0096309   0.01195898  0.01390535\n",
      "  0.          0.01163464  0.0134557  -0.01346251  0.00156612  0.0083488\n",
      "  0.01279425  0.01938684  0.01346821  0.          0.01302544  0.00050756\n",
      "  0.        ]\n"
     ]
    }
   ],
   "source": [
    "print features_test[0]\n",
    "print features_train[9]"
   ]
  },
  {
   "cell_type": "code",
   "execution_count": 123,
   "metadata": {
    "collapsed": false
   },
   "outputs": [
    {
     "data": {
      "text/plain": [
       "0.059723593744844518"
      ]
     },
     "execution_count": 123,
     "metadata": {},
     "output_type": "execute_result"
    }
   ],
   "source": [
    "def compute_distance(a,b):\n",
    "    feature_diff = []\n",
    "    for i in xrange(1,19):\n",
    "        feature_diff_sq = (a[i] - b[i])**2\n",
    "        feature_diff.append(feature_diff_sq)\n",
    "    return np.sqrt(np.sum(feature_diff))\n",
    "\n",
    "compute_distance(features_test[0],features_train[9])"
   ]
  },
  {
   "cell_type": "code",
   "execution_count": 124,
   "metadata": {
    "collapsed": false
   },
   "outputs": [
    {
     "name": "stdout",
     "output_type": "stream",
     "text": [
      "8\n",
      "0.052383627849\n",
      "[0.06027470958485634, 0.085468811476547502, 0.061499465821446185, 0.05340273981055426, 0.05844484103681425, 0.059879215912321197, 0.05463140503661286, 0.055431085638732065, 0.052383627849017393, 0.059723593744844518]\n"
     ]
    }
   ],
   "source": [
    "distance_10 = []\n",
    "for i in xrange(0,10):\n",
    "    distance = compute_distance(features_test[0],features_train[i])\n",
    "    distance_10.append(distance)\n",
    "print np.argmin(distance_10)\n",
    "print np.min(distance_10)\n",
    "print distance_10"
   ]
  },
  {
   "cell_type": "code",
   "execution_count": 26,
   "metadata": {
    "collapsed": false
   },
   "outputs": [
    {
     "name": "stdout",
     "output_type": "stream",
     "text": [
      "[ -1.20498190e-02   0.00000000e+00  -5.50336860e-03  -5.14364795e-03\n",
      "  -3.47633726e-03   0.00000000e+00  -3.87821276e-03   7.13160923e-06\n",
      "   1.29876855e-05   6.69281453e-04  -1.05552733e-02  -8.52950206e-03\n",
      "   0.00000000e+00  -1.70254220e-05  -2.48168183e-02  -1.63756198e-04\n",
      "   2.08673616e-04  -5.10236549e-02]\n",
      "[ -4.51868214e-03   0.00000000e+00   1.30705004e-03  -2.89330197e-03\n",
      "  -3.47633726e-03   6.65082271e-02  -3.87821276e-03  -1.37146331e-07\n",
      "   6.16364736e-06   1.47606982e-03  -2.26610387e-03   0.00000000e+00\n",
      "   0.00000000e+00   4.23090220e-05  -1.45830788e-02  -1.91048898e-04\n",
      "   7.19763456e-04  -5.10236549e-02]\n",
      "[ -1.20498190e-02   0.00000000e+00  -8.32384500e-03   3.72914476e-03\n",
      "  -5.21450589e-03   0.00000000e+00  -7.75642553e-03  -1.34403405e-05\n",
      "   1.56292487e-05   1.64764925e-03  -1.30002801e-02  -8.52950206e-03\n",
      "   0.00000000e+00   4.70885840e-05  -2.48168183e-02  -3.13866046e-04\n",
      "   1.60518166e-03  -5.10236549e-02]\n"
     ]
    }
   ],
   "source": [
    "for i in xrange(3):\n",
    "    print features_train[i][1:]-features_test[0][1:]\n",
    "    # should print 3 vectors of length 18"
   ]
  },
  {
   "cell_type": "code",
   "execution_count": 28,
   "metadata": {
    "collapsed": false
   },
   "outputs": [
    {
     "name": "stdout",
     "output_type": "stream",
     "text": [
      "[[  0.00000000e+00  -1.20498190e-02   0.00000000e+00  -5.50336860e-03\n",
      "   -5.14364795e-03  -3.47633726e-03   0.00000000e+00  -3.87821276e-03\n",
      "    7.13160923e-06   1.29876855e-05   6.69281453e-04  -1.05552733e-02\n",
      "   -8.52950206e-03   0.00000000e+00  -1.70254220e-05  -2.48168183e-02\n",
      "   -1.63756198e-04   2.08673616e-04  -5.10236549e-02]\n",
      " [  0.00000000e+00  -4.51868214e-03   0.00000000e+00   1.30705004e-03\n",
      "   -2.89330197e-03  -3.47633726e-03   6.65082271e-02  -3.87821276e-03\n",
      "   -1.37146331e-07   6.16364736e-06   1.47606982e-03  -2.26610387e-03\n",
      "    0.00000000e+00   0.00000000e+00   4.23090220e-05  -1.45830788e-02\n",
      "   -1.91048898e-04   7.19763456e-04  -5.10236549e-02]\n",
      " [  0.00000000e+00  -1.20498190e-02   0.00000000e+00  -8.32384500e-03\n",
      "    3.72914476e-03  -5.21450589e-03   0.00000000e+00  -7.75642553e-03\n",
      "   -1.34403405e-05   1.56292487e-05   1.64764925e-03  -1.30002801e-02\n",
      "   -8.52950206e-03   0.00000000e+00   4.70885840e-05  -2.48168183e-02\n",
      "   -3.13866046e-04   1.60518166e-03  -5.10236549e-02]]\n"
     ]
    }
   ],
   "source": [
    "print features_train[0:3] - features_test[0]"
   ]
  },
  {
   "cell_type": "code",
   "execution_count": 29,
   "metadata": {
    "collapsed": false
   },
   "outputs": [
    {
     "name": "stdout",
     "output_type": "stream",
     "text": [
      "[ 0.  0.  0.  0.  0.  0.  0.  0.  0.  0.  0.  0.  0.  0.  0.  0.  0.  0.\n",
      "  0.]\n",
      "[ 0.  0.  0.  0.  0.  0.  0.  0.  0.  0.  0.  0.  0.  0.  0.  0.  0.  0.\n",
      "  0.]\n",
      "[ 0.  0.  0.  0.  0.  0.  0.  0.  0.  0.  0.  0.  0.  0.  0.  0.  0.  0.\n",
      "  0.]\n"
     ]
    }
   ],
   "source": [
    "# verify that vectorization works\n",
    "results = features_train[0:3] - features_test[0]\n",
    "print results[0] - (features_train[0]-features_test[0])\n",
    "# should print all 0's if results[0] == (features_train[0]-features_test[0])\n",
    "print results[1] - (features_train[1]-features_test[0])\n",
    "# should print all 0's if results[1] == (features_train[1]-features_test[0])\n",
    "print results[2] - (features_train[2]-features_test[0])\n",
    "# should print all 0's if results[2] == (features_train[2]-features_test[0])"
   ]
  },
  {
   "cell_type": "code",
   "execution_count": 125,
   "metadata": {
    "collapsed": false
   },
   "outputs": [
    {
     "name": "stdout",
     "output_type": "stream",
     "text": [
      "-0.0934371531122\n",
      "[[ 0.         -0.01204982  0.         ..., -0.00016376  0.00020867\n",
      "  -0.05102365]\n",
      " [ 0.         -0.00451868  0.         ..., -0.00019105  0.00071976\n",
      "  -0.05102365]\n",
      " [ 0.         -0.01204982  0.         ..., -0.00031387  0.00160518\n",
      "  -0.05102365]\n",
      " ..., \n",
      " [ 0.         -0.00301245  0.         ...,  0.00016376  0.00017208\n",
      "  -0.05102365]\n",
      " [ 0.         -0.00301245  0.         ...,  0.00023881  0.00032842\n",
      "  -0.05102365]\n",
      " [ 0.         -0.00301245  0.         ...,  0.0002047  -0.00124209\n",
      "  -0.05102365]]\n"
     ]
    }
   ],
   "source": [
    "diff = features_train - features_test[0]\n",
    "print diff[-1].sum()\n",
    "print diff"
   ]
  },
  {
   "cell_type": "code",
   "execution_count": 126,
   "metadata": {
    "collapsed": false
   },
   "outputs": [
    {
     "data": {
      "text/plain": [
       "0.00056208055517450377"
      ]
     },
     "execution_count": 126,
     "metadata": {},
     "output_type": "execute_result"
    }
   ],
   "source": [
    "np.sum(diff**2, axis=1)[100]"
   ]
  },
  {
   "cell_type": "code",
   "execution_count": 36,
   "metadata": {
    "collapsed": false
   },
   "outputs": [
    {
     "name": "stdout",
     "output_type": "stream",
     "text": [
      "0.00330705911543\n",
      "0.00330705911543\n"
     ]
    }
   ],
   "source": [
    "# verify that these expressions print the same result\n",
    "print np.sum(diff**2, axis=1)[15]\n",
    "print np.sum(diff[15]**2)"
   ]
  },
  {
   "cell_type": "code",
   "execution_count": 127,
   "metadata": {
    "collapsed": false
   },
   "outputs": [
    {
     "data": {
      "text/plain": [
       "0.023708238128855204"
      ]
     },
     "execution_count": 127,
     "metadata": {},
     "output_type": "execute_result"
    }
   ],
   "source": [
    "distances = np.sqrt(np.sum((features_train - features_test[0])**2,axis=1))\n",
    "distances[100] "
   ]
  },
  {
   "cell_type": "code",
   "execution_count": 128,
   "metadata": {
    "collapsed": true
   },
   "outputs": [],
   "source": [
    "def compute_distances(features_instances, features_query):\n",
    "    distances = np.sqrt(np.sum((features_instances - features_query)**2,axis=1))\n",
    "    return distances"
   ]
  },
  {
   "cell_type": "code",
   "execution_count": 129,
   "metadata": {
    "collapsed": false
   },
   "outputs": [
    {
     "name": "stdout",
     "output_type": "stream",
     "text": [
      "382\n",
      "[249000]\n"
     ]
    }
   ],
   "source": [
    "distances_2 = compute_distances(features_train,features_test[2])\n",
    "print np.argmin(distances_2)\n",
    "print output_train[382]"
   ]
  },
  {
   "cell_type": "code",
   "execution_count": 130,
   "metadata": {
    "collapsed": true
   },
   "outputs": [],
   "source": [
    "def k_nearest_neighbors(k, feature_train, features_query):\n",
    "    distances = compute_distances(feature_train,features_query)\n",
    "    neighbors = np.argsort(distances)[:k]\n",
    "    return neighbors"
   ]
  },
  {
   "cell_type": "code",
   "execution_count": 131,
   "metadata": {
    "collapsed": false
   },
   "outputs": [
    {
     "data": {
      "text/plain": [
       "array([ 382, 1149, 4087, 3142])"
      ]
     },
     "execution_count": 131,
     "metadata": {},
     "output_type": "execute_result"
    }
   ],
   "source": [
    "k_nearest_neighbors(4,features_train,features_test[2])"
   ]
  },
  {
   "cell_type": "code",
   "execution_count": 148,
   "metadata": {
    "collapsed": true
   },
   "outputs": [],
   "source": [
    "def predict_output_of_query(k, features_train, output_train, features_query):\n",
    "    neighbors = k_nearest_neighbors(k,features_train,features_query)\n",
    "    neighbors_value = []\n",
    "    for i in xrange(0,k):\n",
    "        neighbors_value.append(output_train[neighbors[i]])\n",
    "    prediction = np.mean(neighbors_value)\n",
    "    return prediction"
   ]
  },
  {
   "cell_type": "code",
   "execution_count": 149,
   "metadata": {
    "collapsed": false
   },
   "outputs": [
    {
     "name": "stdout",
     "output_type": "stream",
     "text": [
      "413987.5\n",
      "305000.0\n"
     ]
    }
   ],
   "source": [
    "print predict_output_of_query(4,features_train,output_train,features_test[2])\n",
    "print predict_output_of_query(2,features_train,output_train,features_valid[112])"
   ]
  },
  {
   "cell_type": "code",
   "execution_count": 134,
   "metadata": {
    "collapsed": false
   },
   "outputs": [
    {
     "name": "stdout",
     "output_type": "stream",
     "text": [
      "6\n"
     ]
    }
   ],
   "source": [
    "predictions = []\n",
    "for i in xrange(0,10):\n",
    "    prediction = predict_output_of_query(10,features_train,output_train,features_test[i])\n",
    "    predictions.append(prediction)\n",
    "print np.argmin(predictions)"
   ]
  },
  {
   "cell_type": "code",
   "execution_count": 157,
   "metadata": {
    "collapsed": false
   },
   "outputs": [
    {
     "name": "stdout",
     "output_type": "stream",
     "text": [
      "[ 450000.  502500.  771000. ...,  305000.  312500.  429900.]\n",
      "1435\n",
      "[ 487500.  537250.  632500. ...,  390500.  308750.  464950.]\n",
      "1435\n",
      "[ 466000.          466833.33333333  606666.66666667 ...,  379000.\n",
      "  302166.66666667  455300.        ]\n",
      "1435\n",
      "[ 489500.  433875.  652750. ...,  391125.  312875.  469725.]\n",
      "1435\n",
      "[ 455100.  419090.  629000. ...,  425300.  318300.  469180.]\n",
      "1435\n",
      "[ 449250.          405491.66666667  587500.         ...,  435916.66666667\n",
      "  299416.66666667  485150.        ]\n",
      "1435\n",
      "[ 446500.          384689.28571429  576285.71428571 ...,  423714.28571429\n",
      "  314035.71428571  488700.        ]\n",
      "1435\n",
      "[ 423812.5    370415.625  583000.    ...,  406750.     312156.25   472612.5  ]\n",
      "1435\n",
      "[ 443944.44444444  368136.11111111  550994.44444444 ...,  410444.44444444\n",
      "  311250.          484544.44444444]\n",
      "1435\n",
      "[ 463450.   361522.5  539195.  ...,  410000.   317625.   490990. ]\n",
      "1435\n",
      "[ 479063.63636364  415475.          520622.72727273 ...,  422545.45454545\n",
      "  322750.          480536.36363636]\n",
      "1435\n",
      "[ 475558.33333333  407185.41666667  512487.5        ...,  413833.33333333\n",
      "  326687.5         481320.83333333]\n",
      "1435\n",
      "[ 477853.84615385  400632.69230769  519026.92307692 ...,  408461.53846154\n",
      "  319234.61538462  484603.84615385]\n",
      "1435\n",
      "[ 467757.14285714  413444.64285714  521953.57142857 ...,  411121.42857143\n",
      "  317146.42857143  487810.71428571]\n",
      "1435\n",
      "[ 474240.          413878.33333333  518889.93333333 ...,  404046.66666667\n",
      "  325203.33333333  490590.        ]\n",
      "1435\n"
     ]
    }
   ],
   "source": [
    "rss_range = []\n",
    "for k in range(1,16):\n",
    "    predictions = []\n",
    "    for i in xrange(0,len(features_valid)):\n",
    "        prediction = predict_output_of_query(k,features_train,output_train,features_valid[i])\n",
    "        predictions.append(prediction)\n",
    "    print np.asarray(predictions)\n",
    "    print len(predictions)\n",
    "    rss = np.sum((np.asarray(predictions) - output_valid)**2)\n",
    "    rss_range.append(rss)"
   ]
  },
  {
   "cell_type": "code",
   "execution_count": 158,
   "metadata": {
    "collapsed": false
   },
   "outputs": [
    {
     "name": "stdout",
     "output_type": "stream",
     "text": [
      "1435\n",
      "14\n",
      "[4.6863105239118675e+17, 4.353035498631689e+17, 4.3648348201112435e+17, 4.3319013102125747e+17, 4.2905739754152122e+17, 4.2079448674895834e+17, 4.1730704314258496e+17, 4.1454417174547987e+17, 4.1200523549135949e+17, 4.0877297099738451e+17, 4.0585181400101888e+17, 4.0433447484777171e+17, 4.0133423554773382e+17, 4.0189866665099955e+17, 3.9887962895938579e+17]\n"
     ]
    }
   ],
   "source": [
    "print len(output_valid)\n",
    "print np.argmin(rss_range)\n",
    "print rss_range"
   ]
  },
  {
   "cell_type": "code",
   "execution_count": 152,
   "metadata": {
    "collapsed": false
   },
   "outputs": [
    {
     "name": "stdout",
     "output_type": "stream",
     "text": [
      "[ 918700.          516973.33333333  462723.33333333 ...,  304213.26666667\n",
      "  670769.2         275243.33333333]\n",
      "6.81172948723e+17\n"
     ]
    }
   ],
   "source": [
    "predictions = []\n",
    "for i in xrange(0,len(features_test)):\n",
    "        prediction = predict_output_of_query(15,features_train,output_train,features_test[i])\n",
    "        predictions.append(prediction)\n",
    "print np.asarray(predictions) \n",
    "print ((np.asarray(predictions) - output_test)**2).sum()"
   ]
  },
  {
   "cell_type": "code",
   "execution_count": null,
   "metadata": {
    "collapsed": true
   },
   "outputs": [],
   "source": []
  }
 ],
 "metadata": {
  "kernelspec": {
   "display_name": "Python 2",
   "language": "python",
   "name": "python2"
  },
  "language_info": {
   "codemirror_mode": {
    "name": "ipython",
    "version": 2
   },
   "file_extension": ".py",
   "mimetype": "text/x-python",
   "name": "python",
   "nbconvert_exporter": "python",
   "pygments_lexer": "ipython2",
   "version": "2.7.11"
  }
 },
 "nbformat": 4,
 "nbformat_minor": 0
}
