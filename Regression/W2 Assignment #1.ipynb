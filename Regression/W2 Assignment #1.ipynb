{
 "cells": [
  {
   "cell_type": "code",
   "execution_count": 1,
   "metadata": {
    "collapsed": false
   },
   "outputs": [
    {
     "name": "stdout",
     "output_type": "stream",
     "text": [
      "Using matplotlib backend: MacOSX\n"
     ]
    }
   ],
   "source": [
    "%matplotlib\n",
    "import numpy as np\n",
    "import pandas as pd\n",
    "import statsmodels.api as sm\n",
    "import math"
   ]
  },
  {
   "cell_type": "markdown",
   "metadata": {},
   "source": [
    "# Load in training and test data"
   ]
  },
  {
   "cell_type": "code",
   "execution_count": 103,
   "metadata": {
    "collapsed": true
   },
   "outputs": [],
   "source": [
    "sales_train = pd.read_csv('kc_house_train_data.csv')\n",
    "sales_test = pd.read_csv('kc_house_test_data.csv')"
   ]
  },
  {
   "cell_type": "markdown",
   "metadata": {},
   "source": [
    "## Add more features"
   ]
  },
  {
   "cell_type": "code",
   "execution_count": 3,
   "metadata": {
    "collapsed": false
   },
   "outputs": [],
   "source": [
    "sales_train['bedrooms_squared'] = sales_train['bedrooms']**2\n",
    "sales_train['bed_bath_rooms'] = sales_train['bedrooms']*sales_train['bathrooms']\n",
    "sales_train['log_sqft_living'] = np.log(sales_train['sqft_living'])\n",
    "sales_train['lat_plus_long'] = sales_train['lat'] + sales_train['long']\n",
    "sales_test['bedrooms_squared'] = sales_test['bedrooms']**2\n",
    "sales_test['bed_bath_rooms'] = sales_test['bedrooms']*sales_test['bathrooms']\n",
    "sales_test['log_sqft_living'] = np.log(sales_test['sqft_living'])\n",
    "sales_test['lat_plus_long'] = sales_test['lat'] + sales_test['long']"
   ]
  },
  {
   "cell_type": "code",
   "execution_count": 14,
   "metadata": {
    "collapsed": false
   },
   "outputs": [
    {
     "data": {
      "text/html": [
       "<div>\n",
       "<table border=\"1\" class=\"dataframe\">\n",
       "  <thead>\n",
       "    <tr style=\"text-align: right;\">\n",
       "      <th></th>\n",
       "      <th>id</th>\n",
       "      <th>date</th>\n",
       "      <th>price</th>\n",
       "      <th>bedrooms</th>\n",
       "      <th>bathrooms</th>\n",
       "      <th>sqft_living</th>\n",
       "      <th>sqft_lot</th>\n",
       "      <th>floors</th>\n",
       "      <th>waterfront</th>\n",
       "      <th>view</th>\n",
       "      <th>...</th>\n",
       "      <th>zipcode</th>\n",
       "      <th>lat</th>\n",
       "      <th>long</th>\n",
       "      <th>sqft_living15</th>\n",
       "      <th>sqft_lot15</th>\n",
       "      <th>bedrooms_squred</th>\n",
       "      <th>bed_bath_rooms</th>\n",
       "      <th>log_sqft_living</th>\n",
       "      <th>lat_plus_long</th>\n",
       "      <th>bedrooms_squared</th>\n",
       "    </tr>\n",
       "  </thead>\n",
       "  <tbody>\n",
       "    <tr>\n",
       "      <th>0</th>\n",
       "      <td>7129300520</td>\n",
       "      <td>20141013T000000</td>\n",
       "      <td>221900.0</td>\n",
       "      <td>3</td>\n",
       "      <td>1.00</td>\n",
       "      <td>1180</td>\n",
       "      <td>5650</td>\n",
       "      <td>1.0</td>\n",
       "      <td>0</td>\n",
       "      <td>0</td>\n",
       "      <td>...</td>\n",
       "      <td>98178</td>\n",
       "      <td>47.5112</td>\n",
       "      <td>-122.257</td>\n",
       "      <td>1340</td>\n",
       "      <td>5650</td>\n",
       "      <td>9</td>\n",
       "      <td>3.00</td>\n",
       "      <td>7.073270</td>\n",
       "      <td>-74.7458</td>\n",
       "      <td>9</td>\n",
       "    </tr>\n",
       "    <tr>\n",
       "      <th>1</th>\n",
       "      <td>6414100192</td>\n",
       "      <td>20141209T000000</td>\n",
       "      <td>538000.0</td>\n",
       "      <td>3</td>\n",
       "      <td>2.25</td>\n",
       "      <td>2570</td>\n",
       "      <td>7242</td>\n",
       "      <td>2.0</td>\n",
       "      <td>0</td>\n",
       "      <td>0</td>\n",
       "      <td>...</td>\n",
       "      <td>98125</td>\n",
       "      <td>47.7210</td>\n",
       "      <td>-122.319</td>\n",
       "      <td>1690</td>\n",
       "      <td>7639</td>\n",
       "      <td>9</td>\n",
       "      <td>6.75</td>\n",
       "      <td>7.851661</td>\n",
       "      <td>-74.5980</td>\n",
       "      <td>9</td>\n",
       "    </tr>\n",
       "    <tr>\n",
       "      <th>2</th>\n",
       "      <td>5631500400</td>\n",
       "      <td>20150225T000000</td>\n",
       "      <td>180000.0</td>\n",
       "      <td>2</td>\n",
       "      <td>1.00</td>\n",
       "      <td>770</td>\n",
       "      <td>10000</td>\n",
       "      <td>1.0</td>\n",
       "      <td>0</td>\n",
       "      <td>0</td>\n",
       "      <td>...</td>\n",
       "      <td>98028</td>\n",
       "      <td>47.7379</td>\n",
       "      <td>-122.233</td>\n",
       "      <td>2720</td>\n",
       "      <td>8062</td>\n",
       "      <td>4</td>\n",
       "      <td>2.00</td>\n",
       "      <td>6.646391</td>\n",
       "      <td>-74.4951</td>\n",
       "      <td>4</td>\n",
       "    </tr>\n",
       "  </tbody>\n",
       "</table>\n",
       "<p>3 rows × 26 columns</p>\n",
       "</div>"
      ],
      "text/plain": [
       "           id             date     price  bedrooms  bathrooms  sqft_living  \\\n",
       "0  7129300520  20141013T000000  221900.0         3       1.00         1180   \n",
       "1  6414100192  20141209T000000  538000.0         3       2.25         2570   \n",
       "2  5631500400  20150225T000000  180000.0         2       1.00          770   \n",
       "\n",
       "   sqft_lot  floors  waterfront  view        ...         zipcode      lat  \\\n",
       "0      5650     1.0           0     0        ...           98178  47.5112   \n",
       "1      7242     2.0           0     0        ...           98125  47.7210   \n",
       "2     10000     1.0           0     0        ...           98028  47.7379   \n",
       "\n",
       "      long  sqft_living15  sqft_lot15  bedrooms_squred  bed_bath_rooms  \\\n",
       "0 -122.257           1340        5650                9            3.00   \n",
       "1 -122.319           1690        7639                9            6.75   \n",
       "2 -122.233           2720        8062                4            2.00   \n",
       "\n",
       "   log_sqft_living  lat_plus_long  bedrooms_squared  \n",
       "0         7.073270       -74.7458                 9  \n",
       "1         7.851661       -74.5980                 9  \n",
       "2         6.646391       -74.4951                 4  \n",
       "\n",
       "[3 rows x 26 columns]"
      ]
     },
     "execution_count": 14,
     "metadata": {},
     "output_type": "execute_result"
    }
   ],
   "source": [
    "sales_train[:3]"
   ]
  },
  {
   "cell_type": "code",
   "execution_count": 15,
   "metadata": {
    "collapsed": false
   },
   "outputs": [
    {
     "name": "stdout",
     "output_type": "stream",
     "text": [
      "12.4466777016\n",
      "7.50390163159\n",
      "7.55027467965\n",
      "-74.653333554\n"
     ]
    }
   ],
   "source": [
    "print sales_test['bedrooms_squared'].mean()\n",
    "print sales_test['bed_bath_rooms'].mean()\n",
    "print sales_test['log_sqft_living'].mean()\n",
    "print sales_test['lat_plus_long'].mean()"
   ]
  },
  {
   "cell_type": "markdown",
   "metadata": {},
   "source": [
    "# Simple Regression Model"
   ]
  },
  {
   "cell_type": "code",
   "execution_count": 29,
   "metadata": {
    "collapsed": false
   },
   "outputs": [],
   "source": [
    "X1 = sales_train[['sqft_living', 'bedrooms', 'bathrooms', 'lat','long']]\n",
    "X1 = sm.add_constant(X1)\n",
    "model1 = sm.OLS(sales_train['price'],X1)"
   ]
  },
  {
   "cell_type": "code",
   "execution_count": 30,
   "metadata": {
    "collapsed": false
   },
   "outputs": [
    {
     "data": {
      "text/html": [
       "<table class=\"simpletable\">\n",
       "<caption>OLS Regression Results</caption>\n",
       "<tr>\n",
       "  <th>Dep. Variable:</th>          <td>price</td>      <th>  R-squared:         </th>  <td>   0.593</td>  \n",
       "</tr>\n",
       "<tr>\n",
       "  <th>Model:</th>                   <td>OLS</td>       <th>  Adj. R-squared:    </th>  <td>   0.592</td>  \n",
       "</tr>\n",
       "<tr>\n",
       "  <th>Method:</th>             <td>Least Squares</td>  <th>  F-statistic:       </th>  <td>   5056.</td>  \n",
       "</tr>\n",
       "<tr>\n",
       "  <th>Date:</th>             <td>Wed, 29 Jun 2016</td> <th>  Prob (F-statistic):</th>   <td>  0.00</td>   \n",
       "</tr>\n",
       "<tr>\n",
       "  <th>Time:</th>                 <td>12:35:18</td>     <th>  Log-Likelihood:    </th> <td>-2.3973e+05</td>\n",
       "</tr>\n",
       "<tr>\n",
       "  <th>No. Observations:</th>      <td> 17384</td>      <th>  AIC:               </th>  <td>4.795e+05</td> \n",
       "</tr>\n",
       "<tr>\n",
       "  <th>Df Residuals:</th>          <td> 17378</td>      <th>  BIC:               </th>  <td>4.795e+05</td> \n",
       "</tr>\n",
       "<tr>\n",
       "  <th>Df Model:</th>              <td>     5</td>      <th>                     </th>      <td> </td>     \n",
       "</tr>\n",
       "<tr>\n",
       "  <th>Covariance Type:</th>      <td>nonrobust</td>    <th>                     </th>      <td> </td>     \n",
       "</tr>\n",
       "</table>\n",
       "<table class=\"simpletable\">\n",
       "<tr>\n",
       "       <td></td>          <th>coef</th>     <th>std err</th>      <th>t</th>      <th>P>|t|</th> <th>[95.0% Conf. Int.]</th> \n",
       "</tr>\n",
       "<tr>\n",
       "  <th>const</th>       <td>-6.908e+07</td> <td> 1.65e+06</td> <td>  -41.940</td> <td> 0.000</td> <td>-7.23e+07 -6.58e+07</td>\n",
       "</tr>\n",
       "<tr>\n",
       "  <th>sqft_living</th> <td>  312.2586</td> <td>    3.183</td> <td>   98.097</td> <td> 0.000</td> <td>  306.019   318.498</td>\n",
       "</tr>\n",
       "<tr>\n",
       "  <th>bedrooms</th>    <td>-5.959e+04</td> <td> 2482.861</td> <td>  -23.999</td> <td> 0.000</td> <td>-6.45e+04 -5.47e+04</td>\n",
       "</tr>\n",
       "<tr>\n",
       "  <th>bathrooms</th>   <td> 1.571e+04</td> <td> 3587.158</td> <td>    4.379</td> <td> 0.000</td> <td> 8675.552  2.27e+04</td>\n",
       "</tr>\n",
       "<tr>\n",
       "  <th>lat</th>         <td> 6.586e+05</td> <td> 1.31e+04</td> <td>   50.286</td> <td> 0.000</td> <td> 6.33e+05  6.84e+05</td>\n",
       "</tr>\n",
       "<tr>\n",
       "  <th>long</th>        <td>-3.094e+05</td> <td> 1.33e+04</td> <td>  -23.331</td> <td> 0.000</td> <td>-3.35e+05 -2.83e+05</td>\n",
       "</tr>\n",
       "</table>\n",
       "<table class=\"simpletable\">\n",
       "<tr>\n",
       "  <th>Omnibus:</th>       <td>12962.917</td> <th>  Durbin-Watson:     </th>  <td>   2.008</td> \n",
       "</tr>\n",
       "<tr>\n",
       "  <th>Prob(Omnibus):</th>  <td> 0.000</td>   <th>  Jarque-Bera (JB):  </th> <td>615844.364</td>\n",
       "</tr>\n",
       "<tr>\n",
       "  <th>Skew:</th>           <td> 3.114</td>   <th>  Prob(JB):          </th>  <td>    0.00</td> \n",
       "</tr>\n",
       "<tr>\n",
       "  <th>Kurtosis:</th>       <td>31.486</td>   <th>  Cond. No.          </th>  <td>2.10e+06</td> \n",
       "</tr>\n",
       "</table>"
      ],
      "text/plain": [
       "<class 'statsmodels.iolib.summary.Summary'>\n",
       "\"\"\"\n",
       "                            OLS Regression Results                            \n",
       "==============================================================================\n",
       "Dep. Variable:                  price   R-squared:                       0.593\n",
       "Model:                            OLS   Adj. R-squared:                  0.592\n",
       "Method:                 Least Squares   F-statistic:                     5056.\n",
       "Date:                Wed, 29 Jun 2016   Prob (F-statistic):               0.00\n",
       "Time:                        12:35:18   Log-Likelihood:            -2.3973e+05\n",
       "No. Observations:               17384   AIC:                         4.795e+05\n",
       "Df Residuals:                   17378   BIC:                         4.795e+05\n",
       "Df Model:                           5                                         \n",
       "Covariance Type:            nonrobust                                         \n",
       "===============================================================================\n",
       "                  coef    std err          t      P>|t|      [95.0% Conf. Int.]\n",
       "-------------------------------------------------------------------------------\n",
       "const       -6.908e+07   1.65e+06    -41.940      0.000     -7.23e+07 -6.58e+07\n",
       "sqft_living   312.2586      3.183     98.097      0.000       306.019   318.498\n",
       "bedrooms    -5.959e+04   2482.861    -23.999      0.000     -6.45e+04 -5.47e+04\n",
       "bathrooms    1.571e+04   3587.158      4.379      0.000      8675.552  2.27e+04\n",
       "lat          6.586e+05   1.31e+04     50.286      0.000      6.33e+05  6.84e+05\n",
       "long        -3.094e+05   1.33e+04    -23.331      0.000     -3.35e+05 -2.83e+05\n",
       "==============================================================================\n",
       "Omnibus:                    12962.917   Durbin-Watson:                   2.008\n",
       "Prob(Omnibus):                  0.000   Jarque-Bera (JB):           615844.364\n",
       "Skew:                           3.114   Prob(JB):                         0.00\n",
       "Kurtosis:                      31.486   Cond. No.                     2.10e+06\n",
       "==============================================================================\n",
       "\n",
       "Warnings:\n",
       "[1] Standard Errors assume that the covariance matrix of the errors is correctly specified.\n",
       "[2] The condition number is large, 2.1e+06. This might indicate that there are\n",
       "strong multicollinearity or other numerical problems.\n",
       "\"\"\""
      ]
     },
     "execution_count": 30,
     "metadata": {},
     "output_type": "execute_result"
    }
   ],
   "source": [
    "model1.fit().summary()"
   ]
  },
  {
   "cell_type": "code",
   "execution_count": 37,
   "metadata": {
    "collapsed": true
   },
   "outputs": [],
   "source": [
    "X2 = sales_train[['sqft_living', 'bedrooms', 'bathrooms', 'lat','long','bed_bath_rooms']]\n",
    "X2 = sm.add_constant(X2)\n",
    "model2 = sm.OLS(sales_train['price'],X2)"
   ]
  },
  {
   "cell_type": "code",
   "execution_count": 28,
   "metadata": {
    "collapsed": false
   },
   "outputs": [
    {
     "data": {
      "text/html": [
       "<table class=\"simpletable\">\n",
       "<caption>OLS Regression Results</caption>\n",
       "<tr>\n",
       "  <th>Dep. Variable:</th>          <td>price</td>      <th>  R-squared:         </th>  <td>   0.597</td>  \n",
       "</tr>\n",
       "<tr>\n",
       "  <th>Model:</th>                   <td>OLS</td>       <th>  Adj. R-squared:    </th>  <td>   0.596</td>  \n",
       "</tr>\n",
       "<tr>\n",
       "  <th>Method:</th>             <td>Least Squares</td>  <th>  F-statistic:       </th>  <td>   4283.</td>  \n",
       "</tr>\n",
       "<tr>\n",
       "  <th>Date:</th>             <td>Wed, 29 Jun 2016</td> <th>  Prob (F-statistic):</th>   <td>  0.00</td>   \n",
       "</tr>\n",
       "<tr>\n",
       "  <th>Time:</th>                 <td>12:34:48</td>     <th>  Log-Likelihood:    </th> <td>-2.3965e+05</td>\n",
       "</tr>\n",
       "<tr>\n",
       "  <th>No. Observations:</th>      <td> 17384</td>      <th>  AIC:               </th>  <td>4.793e+05</td> \n",
       "</tr>\n",
       "<tr>\n",
       "  <th>Df Residuals:</th>          <td> 17377</td>      <th>  BIC:               </th>  <td>4.794e+05</td> \n",
       "</tr>\n",
       "<tr>\n",
       "  <th>Df Model:</th>              <td>     6</td>      <th>                     </th>      <td> </td>     \n",
       "</tr>\n",
       "<tr>\n",
       "  <th>Covariance Type:</th>      <td>nonrobust</td>    <th>                     </th>      <td> </td>     \n",
       "</tr>\n",
       "</table>\n",
       "<table class=\"simpletable\">\n",
       "<tr>\n",
       "         <td></td>           <th>coef</th>     <th>std err</th>      <th>t</th>      <th>P>|t|</th> <th>[95.0% Conf. Int.]</th> \n",
       "</tr>\n",
       "<tr>\n",
       "  <th>const</th>          <td>-6.687e+07</td> <td> 1.65e+06</td> <td>  -40.584</td> <td> 0.000</td> <td>-7.01e+07 -6.36e+07</td>\n",
       "</tr>\n",
       "<tr>\n",
       "  <th>sqft_living</th>    <td>  306.6101</td> <td>    3.197</td> <td>   95.909</td> <td> 0.000</td> <td>  300.344   312.876</td>\n",
       "</tr>\n",
       "<tr>\n",
       "  <th>bedrooms</th>       <td>-1.134e+05</td> <td> 4797.612</td> <td>  -23.646</td> <td> 0.000</td> <td>-1.23e+05 -1.04e+05</td>\n",
       "</tr>\n",
       "<tr>\n",
       "  <th>bathrooms</th>      <td>-7.146e+04</td> <td> 7552.563</td> <td>   -9.462</td> <td> 0.000</td> <td>-8.63e+04 -5.67e+04</td>\n",
       "</tr>\n",
       "<tr>\n",
       "  <th>lat</th>            <td> 6.548e+05</td> <td>  1.3e+04</td> <td>   50.230</td> <td> 0.000</td> <td> 6.29e+05   6.8e+05</td>\n",
       "</tr>\n",
       "<tr>\n",
       "  <th>long</th>           <td>-2.943e+05</td> <td> 1.32e+04</td> <td>  -22.218</td> <td> 0.000</td> <td> -3.2e+05 -2.68e+05</td>\n",
       "</tr>\n",
       "<tr>\n",
       "  <th>bed_bath_rooms</th> <td> 2.558e+04</td> <td> 1953.134</td> <td>   13.097</td> <td> 0.000</td> <td> 2.18e+04  2.94e+04</td>\n",
       "</tr>\n",
       "</table>\n",
       "<table class=\"simpletable\">\n",
       "<tr>\n",
       "  <th>Omnibus:</th>       <td>12343.124</td> <th>  Durbin-Watson:     </th>  <td>   2.010</td> \n",
       "</tr>\n",
       "<tr>\n",
       "  <th>Prob(Omnibus):</th>  <td> 0.000</td>   <th>  Jarque-Bera (JB):  </th> <td>533516.100</td>\n",
       "</tr>\n",
       "<tr>\n",
       "  <th>Skew:</th>           <td> 2.916</td>   <th>  Prob(JB):          </th>  <td>    0.00</td> \n",
       "</tr>\n",
       "<tr>\n",
       "  <th>Kurtosis:</th>       <td>29.506</td>   <th>  Cond. No.          </th>  <td>2.11e+06</td> \n",
       "</tr>\n",
       "</table>"
      ],
      "text/plain": [
       "<class 'statsmodels.iolib.summary.Summary'>\n",
       "\"\"\"\n",
       "                            OLS Regression Results                            \n",
       "==============================================================================\n",
       "Dep. Variable:                  price   R-squared:                       0.597\n",
       "Model:                            OLS   Adj. R-squared:                  0.596\n",
       "Method:                 Least Squares   F-statistic:                     4283.\n",
       "Date:                Wed, 29 Jun 2016   Prob (F-statistic):               0.00\n",
       "Time:                        12:34:48   Log-Likelihood:            -2.3965e+05\n",
       "No. Observations:               17384   AIC:                         4.793e+05\n",
       "Df Residuals:                   17377   BIC:                         4.794e+05\n",
       "Df Model:                           6                                         \n",
       "Covariance Type:            nonrobust                                         \n",
       "==================================================================================\n",
       "                     coef    std err          t      P>|t|      [95.0% Conf. Int.]\n",
       "----------------------------------------------------------------------------------\n",
       "const          -6.687e+07   1.65e+06    -40.584      0.000     -7.01e+07 -6.36e+07\n",
       "sqft_living      306.6101      3.197     95.909      0.000       300.344   312.876\n",
       "bedrooms       -1.134e+05   4797.612    -23.646      0.000     -1.23e+05 -1.04e+05\n",
       "bathrooms      -7.146e+04   7552.563     -9.462      0.000     -8.63e+04 -5.67e+04\n",
       "lat             6.548e+05    1.3e+04     50.230      0.000      6.29e+05   6.8e+05\n",
       "long           -2.943e+05   1.32e+04    -22.218      0.000      -3.2e+05 -2.68e+05\n",
       "bed_bath_rooms  2.558e+04   1953.134     13.097      0.000      2.18e+04  2.94e+04\n",
       "==============================================================================\n",
       "Omnibus:                    12343.124   Durbin-Watson:                   2.010\n",
       "Prob(Omnibus):                  0.000   Jarque-Bera (JB):           533516.100\n",
       "Skew:                           2.916   Prob(JB):                         0.00\n",
       "Kurtosis:                      29.506   Cond. No.                     2.11e+06\n",
       "==============================================================================\n",
       "\n",
       "Warnings:\n",
       "[1] Standard Errors assume that the covariance matrix of the errors is correctly specified.\n",
       "[2] The condition number is large, 2.11e+06. This might indicate that there are\n",
       "strong multicollinearity or other numerical problems.\n",
       "\"\"\""
      ]
     },
     "execution_count": 28,
     "metadata": {},
     "output_type": "execute_result"
    }
   ],
   "source": [
    "model2.fit().summary()"
   ]
  },
  {
   "cell_type": "code",
   "execution_count": 31,
   "metadata": {
    "collapsed": true
   },
   "outputs": [],
   "source": [
    "X3 = sales_train[['sqft_living', 'bedrooms', 'bathrooms', 'lat','long','bed_bath_rooms','bedrooms_squared','log_sqft_living','lat_plus_long']]\n",
    "X3 = sm.add_constant(X3)\n",
    "model3 = sm.OLS(sales_train['price'],X3)"
   ]
  },
  {
   "cell_type": "code",
   "execution_count": 32,
   "metadata": {
    "collapsed": false
   },
   "outputs": [
    {
     "data": {
      "text/html": [
       "<table class=\"simpletable\">\n",
       "<caption>OLS Regression Results</caption>\n",
       "<tr>\n",
       "  <th>Dep. Variable:</th>          <td>price</td>      <th>  R-squared:         </th>  <td>   0.620</td>  \n",
       "</tr>\n",
       "<tr>\n",
       "  <th>Model:</th>                   <td>OLS</td>       <th>  Adj. R-squared:    </th>  <td>   0.620</td>  \n",
       "</tr>\n",
       "<tr>\n",
       "  <th>Method:</th>             <td>Least Squares</td>  <th>  F-statistic:       </th>  <td>   3539.</td>  \n",
       "</tr>\n",
       "<tr>\n",
       "  <th>Date:</th>             <td>Wed, 29 Jun 2016</td> <th>  Prob (F-statistic):</th>   <td>  0.00</td>   \n",
       "</tr>\n",
       "<tr>\n",
       "  <th>Time:</th>                 <td>12:35:50</td>     <th>  Log-Likelihood:    </th> <td>-2.3913e+05</td>\n",
       "</tr>\n",
       "<tr>\n",
       "  <th>No. Observations:</th>      <td> 17384</td>      <th>  AIC:               </th>  <td>4.783e+05</td> \n",
       "</tr>\n",
       "<tr>\n",
       "  <th>Df Residuals:</th>          <td> 17375</td>      <th>  BIC:               </th>  <td>4.784e+05</td> \n",
       "</tr>\n",
       "<tr>\n",
       "  <th>Df Model:</th>              <td>     8</td>      <th>                     </th>      <td> </td>     \n",
       "</tr>\n",
       "<tr>\n",
       "  <th>Covariance Type:</th>      <td>nonrobust</td>    <th>                     </th>      <td> </td>     \n",
       "</tr>\n",
       "</table>\n",
       "<table class=\"simpletable\">\n",
       "<tr>\n",
       "          <td></td>            <th>coef</th>     <th>std err</th>      <th>t</th>      <th>P>|t|</th> <th>[95.0% Conf. Int.]</th> \n",
       "</tr>\n",
       "<tr>\n",
       "  <th>const</th>            <td>-6.204e+07</td> <td> 1.61e+06</td> <td>  -38.449</td> <td> 0.000</td> <td>-6.52e+07 -5.89e+07</td>\n",
       "</tr>\n",
       "<tr>\n",
       "  <th>sqft_living</th>      <td>  529.4228</td> <td>    7.691</td> <td>   68.836</td> <td> 0.000</td> <td>  514.348   544.498</td>\n",
       "</tr>\n",
       "<tr>\n",
       "  <th>bedrooms</th>         <td> 3.451e+04</td> <td> 9385.891</td> <td>    3.677</td> <td> 0.000</td> <td> 1.61e+04  5.29e+04</td>\n",
       "</tr>\n",
       "<tr>\n",
       "  <th>bathrooms</th>        <td> 6.706e+04</td> <td> 1.08e+04</td> <td>    6.219</td> <td> 0.000</td> <td> 4.59e+04  8.82e+04</td>\n",
       "</tr>\n",
       "<tr>\n",
       "  <th>lat</th>              <td> 5.341e+05</td> <td> 8907.125</td> <td>   59.962</td> <td> 0.000</td> <td> 5.17e+05  5.52e+05</td>\n",
       "</tr>\n",
       "<tr>\n",
       "  <th>long</th>             <td>-4.068e+05</td> <td> 9007.995</td> <td>  -45.154</td> <td> 0.000</td> <td>-4.24e+05 -3.89e+05</td>\n",
       "</tr>\n",
       "<tr>\n",
       "  <th>bed_bath_rooms</th>   <td>-8570.5044</td> <td> 2855.965</td> <td>   -3.001</td> <td> 0.003</td> <td>-1.42e+04 -2972.526</td>\n",
       "</tr>\n",
       "<tr>\n",
       "  <th>bedrooms_squared</th> <td>-6788.5867</td> <td> 1493.406</td> <td>   -4.546</td> <td> 0.000</td> <td>-9715.813 -3861.360</td>\n",
       "</tr>\n",
       "<tr>\n",
       "  <th>log_sqft_living</th>  <td>-5.618e+05</td> <td> 1.75e+04</td> <td>  -32.014</td> <td> 0.000</td> <td>-5.96e+05 -5.27e+05</td>\n",
       "</tr>\n",
       "<tr>\n",
       "  <th>lat_plus_long</th>    <td> 1.273e+05</td> <td> 6450.344</td> <td>   19.741</td> <td> 0.000</td> <td> 1.15e+05   1.4e+05</td>\n",
       "</tr>\n",
       "</table>\n",
       "<table class=\"simpletable\">\n",
       "<tr>\n",
       "  <th>Omnibus:</th>       <td>10094.582</td> <th>  Durbin-Watson:     </th>  <td>   2.005</td> \n",
       "</tr>\n",
       "<tr>\n",
       "  <th>Prob(Omnibus):</th>  <td> 0.000</td>   <th>  Jarque-Bera (JB):  </th> <td>319322.176</td>\n",
       "</tr>\n",
       "<tr>\n",
       "  <th>Skew:</th>           <td> 2.240</td>   <th>  Prob(JB):          </th>  <td>    0.00</td> \n",
       "</tr>\n",
       "<tr>\n",
       "  <th>Kurtosis:</th>       <td>23.513</td>   <th>  Cond. No.          </th>  <td>5.53e+16</td> \n",
       "</tr>\n",
       "</table>"
      ],
      "text/plain": [
       "<class 'statsmodels.iolib.summary.Summary'>\n",
       "\"\"\"\n",
       "                            OLS Regression Results                            \n",
       "==============================================================================\n",
       "Dep. Variable:                  price   R-squared:                       0.620\n",
       "Model:                            OLS   Adj. R-squared:                  0.620\n",
       "Method:                 Least Squares   F-statistic:                     3539.\n",
       "Date:                Wed, 29 Jun 2016   Prob (F-statistic):               0.00\n",
       "Time:                        12:35:50   Log-Likelihood:            -2.3913e+05\n",
       "No. Observations:               17384   AIC:                         4.783e+05\n",
       "Df Residuals:                   17375   BIC:                         4.784e+05\n",
       "Df Model:                           8                                         \n",
       "Covariance Type:            nonrobust                                         \n",
       "====================================================================================\n",
       "                       coef    std err          t      P>|t|      [95.0% Conf. Int.]\n",
       "------------------------------------------------------------------------------------\n",
       "const            -6.204e+07   1.61e+06    -38.449      0.000     -6.52e+07 -5.89e+07\n",
       "sqft_living        529.4228      7.691     68.836      0.000       514.348   544.498\n",
       "bedrooms          3.451e+04   9385.891      3.677      0.000      1.61e+04  5.29e+04\n",
       "bathrooms         6.706e+04   1.08e+04      6.219      0.000      4.59e+04  8.82e+04\n",
       "lat               5.341e+05   8907.125     59.962      0.000      5.17e+05  5.52e+05\n",
       "long             -4.068e+05   9007.995    -45.154      0.000     -4.24e+05 -3.89e+05\n",
       "bed_bath_rooms   -8570.5044   2855.965     -3.001      0.003     -1.42e+04 -2972.526\n",
       "bedrooms_squared -6788.5867   1493.406     -4.546      0.000     -9715.813 -3861.360\n",
       "log_sqft_living  -5.618e+05   1.75e+04    -32.014      0.000     -5.96e+05 -5.27e+05\n",
       "lat_plus_long     1.273e+05   6450.344     19.741      0.000      1.15e+05   1.4e+05\n",
       "==============================================================================\n",
       "Omnibus:                    10094.582   Durbin-Watson:                   2.005\n",
       "Prob(Omnibus):                  0.000   Jarque-Bera (JB):           319322.176\n",
       "Skew:                           2.240   Prob(JB):                         0.00\n",
       "Kurtosis:                      23.513   Cond. No.                     5.53e+16\n",
       "==============================================================================\n",
       "\n",
       "Warnings:\n",
       "[1] Standard Errors assume that the covariance matrix of the errors is correctly specified.\n",
       "[2] The smallest eigenvalue is 2.96e-23. This might indicate that there are\n",
       "strong multicollinearity problems or that the design matrix is singular.\n",
       "\"\"\""
      ]
     },
     "execution_count": 32,
     "metadata": {},
     "output_type": "execute_result"
    }
   ],
   "source": [
    "model3.fit().summary()"
   ]
  },
  {
   "cell_type": "code",
   "execution_count": 33,
   "metadata": {
    "collapsed": false
   },
   "outputs": [
    {
     "name": "stdout",
     "output_type": "stream",
     "text": [
      "9.6787996305e+14\n",
      "9.58419635074e+14\n",
      "9.0343645505e+14\n"
     ]
    }
   ],
   "source": [
    "print model1.fit().ssr\n",
    "print model2.fit().ssr\n",
    "print model3.fit().ssr"
   ]
  },
  {
   "cell_type": "code",
   "execution_count": 41,
   "metadata": {
    "collapsed": false
   },
   "outputs": [],
   "source": [
    "def get_residual_sum_of_squares(model,features,y):\n",
    "    predicted = model.fit().predict(sm.add_constant(features))\n",
    "    return np.power((predicted - y),2).sum(axis=0)"
   ]
  },
  {
   "cell_type": "code",
   "execution_count": 46,
   "metadata": {
    "collapsed": false
   },
   "outputs": [
    {
     "name": "stdout",
     "output_type": "stream",
     "text": [
      "2.25500469795e+14\n",
      "2.23377462976e+14\n",
      "2.59236319207e+14\n"
     ]
    }
   ],
   "source": [
    "print get_residual_sum_of_squares(model1,sales_test[['sqft_living', 'bedrooms', 'bathrooms', 'lat','long']],sales_test['price'])\n",
    "print get_residual_sum_of_squares(model2,sales_test[['sqft_living', 'bedrooms', 'bathrooms', 'lat','long','bed_bath_rooms']],sales_test['price'])\n",
    "print get_residual_sum_of_squares(model3,sales_test[['sqft_living', 'bedrooms', 'bathrooms', 'lat','long','bed_bath_rooms','bedrooms_squared','log_sqft_living','lat_plus_long']],sales_test['price'])"
   ]
  },
  {
   "cell_type": "markdown",
   "metadata": {
    "collapsed": true
   },
   "source": [
    "# Assignment #2 - Using Gradient Descent"
   ]
  },
  {
   "cell_type": "code",
   "execution_count": 7,
   "metadata": {
    "collapsed": false
   },
   "outputs": [
    {
     "data": {
      "text/plain": [
       "array([[ 1.],\n",
       "       [ 1.],\n",
       "       [ 1.],\n",
       "       ..., \n",
       "       [ 1.],\n",
       "       [ 1.],\n",
       "       [ 1.]])"
      ]
     },
     "execution_count": 7,
     "metadata": {},
     "output_type": "execute_result"
    }
   ],
   "source": [
    "len(sales_test)\n",
    "sales_train.as_matrix(['sqft_living'])\n",
    "np.ones((len(sales_train),1))"
   ]
  },
  {
   "cell_type": "code",
   "execution_count": 12,
   "metadata": {
    "collapsed": true
   },
   "outputs": [],
   "source": [
    "def get_numpy_data(data,features,output):\n",
    "    constant_col = np.ones((len(data),1))\n",
    "    features_matrix = np.hstack((constant_col, data.as_matrix(features)))\n",
    "    output_array = data.as_matrix([output])\n",
    "    return (features_matrix, output_array)"
   ]
  },
  {
   "cell_type": "code",
   "execution_count": 57,
   "metadata": {
    "collapsed": false
   },
   "outputs": [
    {
     "name": "stdout",
     "output_type": "stream",
     "text": [
      "[[-45820.]\n",
      " [-44430.]\n",
      " [-46230.]\n",
      " ..., \n",
      " [-45470.]\n",
      " [-45400.]\n",
      " [-45980.]]\n",
      "[[ 221900.]\n",
      " [ 538000.]\n",
      " [ 180000.]\n",
      " ..., \n",
      " [ 360000.]\n",
      " [ 400000.]\n",
      " [ 325000.]]\n",
      "[ 1.  1.  1. ...,  1.  1.  1.]\n",
      "[[ 267720.]\n",
      " [ 582430.]\n",
      " [ 226230.]\n",
      " ..., \n",
      " [ 405470.]\n",
      " [ 445400.]\n",
      " [ 370980.]]\n",
      "[  1.01572382e+10]\n"
     ]
    }
   ],
   "source": [
    "simple_feature = ['sqft_living']\n",
    "output_var ='price'\n",
    "(simple_feature_matrix, output) = get_numpy_data(sales_train,simple_feature,output_var)\n",
    "init_weights = [-47000., 1.]\n",
    "print np.dot(simple_feature_matrix,init_weights).reshape((-1,1))\n",
    "print output\n",
    "print simple_feature_matrix[:,0]\n",
    "print (output - predict_outcome(simple_feature_matrix,init_weights))\n",
    "print np.dot(simple_feature_matrix[:,0],(output - predict_outcome(simple_feature_matrix,init_weights)))"
   ]
  },
  {
   "cell_type": "code",
   "execution_count": 52,
   "metadata": {
    "collapsed": true
   },
   "outputs": [],
   "source": [
    "def predict_outcome(features_matrix,weight):\n",
    "    return np.dot(features_matrix,weight).reshape((-1,1))"
   ]
  },
  {
   "cell_type": "code",
   "execution_count": 59,
   "metadata": {
    "collapsed": false
   },
   "outputs": [],
   "source": [
    "def feature_derivative(feature, errors):\n",
    "    return -2*np.dot(feature, errors)"
   ]
  },
  {
   "cell_type": "code",
   "execution_count": 61,
   "metadata": {
    "collapsed": false
   },
   "outputs": [],
   "source": [
    "def regression_gradient_descent(feature_matrix,output_array,initial_weights,step_size,tolerance):\n",
    "    converged = False\n",
    "    weights = np.array(initial_weights)\n",
    "    while not converged:\n",
    "        # compute the predictions based on feature_matrix and weights:\n",
    "        predictions = predict_outcome(feature_matrix,weights)\n",
    "        # compute the errors as predictions - output:\n",
    "        error = output - predictions\n",
    "        # initialize gradient\n",
    "        gradient_sum_sq = 0\n",
    "        # step through each feature and update weight\n",
    "        for i in range(len(weights)):\n",
    "            feature_i_derivative = feature_derivative(feature_matrix[:,i],error)\n",
    "            gradient_sum_sq += feature_i_derivative**2\n",
    "            weights[i] -= step_size * feature_i_derivative\n",
    "        gradient_magnitude = math.sqrt(gradient_sum_sq)\n",
    "        if gradient_magnitude < tolerance:\n",
    "            converged = True \n",
    "    return weights"
   ]
  },
  {
   "cell_type": "markdown",
   "metadata": {},
   "source": [
    "# Use Gradient Descent to make predictions"
   ]
  },
  {
   "cell_type": "code",
   "execution_count": 112,
   "metadata": {
    "collapsed": false
   },
   "outputs": [],
   "source": [
    "simple_feature = ['sqft_living']\n",
    "output_var ='price'\n",
    "(simple_feature_matrix, output) = get_numpy_data(sales_train,simple_feature,output_var)\n",
    "init_weights = [-47000., 1.]\n",
    "step_size = 7e-12\n",
    "tolerance = 2.5e7"
   ]
  },
  {
   "cell_type": "code",
   "execution_count": 113,
   "metadata": {
    "collapsed": false
   },
   "outputs": [],
   "source": [
    "simple_weights = regression_gradient_descent(simple_feature_matrix,output,init_weights,step_size,tolerance)"
   ]
  },
  {
   "cell_type": "code",
   "execution_count": 114,
   "metadata": {
    "collapsed": false
   },
   "outputs": [
    {
     "name": "stdout",
     "output_type": "stream",
     "text": [
      "[-46999.88716555    281.91211918]\n"
     ]
    }
   ],
   "source": [
    "print simple_weights"
   ]
  },
  {
   "cell_type": "markdown",
   "metadata": {},
   "source": [
    "# Make predictions"
   ]
  },
  {
   "cell_type": "code",
   "execution_count": 115,
   "metadata": {
    "collapsed": false
   },
   "outputs": [
    {
     "name": "stdout",
     "output_type": "stream",
     "text": [
      "[[ 310000.]\n",
      " [ 650000.]\n",
      " [ 233000.]\n",
      " ..., \n",
      " [ 610685.]\n",
      " [ 400000.]\n",
      " [ 402101.]]\n"
     ]
    }
   ],
   "source": [
    "(test_simple_feature_matrix,test_output) = get_numpy_data(sales_test,simple_feature,output_var)\n",
    "print test_output"
   ]
  },
  {
   "cell_type": "code",
   "execution_count": 116,
   "metadata": {
    "collapsed": false
   },
   "outputs": [
    {
     "name": "stdout",
     "output_type": "stream",
     "text": [
      "[[ 356134.443255  ]\n",
      " [ 784640.86440132]\n",
      " [ 435069.83662406]\n",
      " ..., \n",
      " [ 663418.65315598]\n",
      " [ 604217.10812919]\n",
      " [ 240550.47439317]]\n"
     ]
    }
   ],
   "source": [
    "predictions_test = predict_outcome(test_simple_feature_matrix,simple_weights)\n",
    "print predictions_test"
   ]
  },
  {
   "cell_type": "code",
   "execution_count": 117,
   "metadata": {
    "collapsed": false
   },
   "outputs": [
    {
     "name": "stdout",
     "output_type": "stream",
     "text": [
      "2.75400044902e+14\n"
     ]
    }
   ],
   "source": [
    "rss = ((test_output - predictions_test)**2).sum()\n",
    "print rss"
   ]
  },
  {
   "cell_type": "markdown",
   "metadata": {},
   "source": [
    "# Using two features to make predictions"
   ]
  },
  {
   "cell_type": "code",
   "execution_count": 125,
   "metadata": {
    "collapsed": false
   },
   "outputs": [
    {
     "name": "stdout",
     "output_type": "stream",
     "text": [
      "[[ 221900.]\n",
      " [ 538000.]\n",
      " [ 180000.]\n",
      " ..., \n",
      " [ 360000.]\n",
      " [ 400000.]\n",
      " [ 325000.]]\n"
     ]
    }
   ],
   "source": [
    "model_features = ['sqft_living', 'sqft_living15']\n",
    "my_output = 'price'\n",
    "(feature_matrix, output) = get_numpy_data(sales_train, model_features,my_output)\n",
    "weights = [-100000., 1., 1.]\n",
    "step_size = 4e-12\n",
    "tolerance = 1e9\n",
    "print output"
   ]
  },
  {
   "cell_type": "code",
   "execution_count": 123,
   "metadata": {
    "collapsed": false
   },
   "outputs": [],
   "source": [
    "model_weights = regression_gradient_descent(feature_matrix,output,weights,step_size,tolerance)"
   ]
  },
  {
   "cell_type": "code",
   "execution_count": 120,
   "metadata": {
    "collapsed": false
   },
   "outputs": [
    {
     "name": "stdout",
     "output_type": "stream",
     "text": [
      "[ -9.99999688e+04   2.45072603e+02   6.52795267e+01]\n",
      "[-100000.0, 1.0, 1.0]\n"
     ]
    }
   ],
   "source": [
    "print model_weights\n",
    "print weights"
   ]
  },
  {
   "cell_type": "code",
   "execution_count": 132,
   "metadata": {
    "collapsed": false
   },
   "outputs": [
    {
     "name": "stdout",
     "output_type": "stream",
     "text": [
      "[[ 366651.41162949]\n",
      " [ 762662.39850726]\n",
      " [ 386312.09557541]\n",
      " ..., \n",
      " [ 682087.39916306]\n",
      " [ 585579.27901327]\n",
      " [ 216559.20391786]]\n"
     ]
    }
   ],
   "source": [
    "(test_model_feature_matrix,test_output) = get_numpy_data(sales_test,model_features,my_output)\n",
    "predictions_test2 = predict_outcome(test_model_feature_matrix,model_weights)\n",
    "print predictions_test2"
   ]
  },
  {
   "cell_type": "code",
   "execution_count": 135,
   "metadata": {
    "collapsed": false
   },
   "outputs": [
    {
     "name": "stdout",
     "output_type": "stream",
     "text": [
      "2.7026344363e+14\n"
     ]
    }
   ],
   "source": [
    "rss_model = ((test_output - predictions_test2)**2).sum()\n",
    "print rss_model"
   ]
  },
  {
   "cell_type": "code",
   "execution_count": null,
   "metadata": {
    "collapsed": true
   },
   "outputs": [],
   "source": []
  }
 ],
 "metadata": {
  "kernelspec": {
   "display_name": "Python 2",
   "language": "python",
   "name": "python2"
  },
  "language_info": {
   "codemirror_mode": {
    "name": "ipython",
    "version": 2
   },
   "file_extension": ".py",
   "mimetype": "text/x-python",
   "name": "python",
   "nbconvert_exporter": "python",
   "pygments_lexer": "ipython2",
   "version": "2.7.11"
  }
 },
 "nbformat": 4,
 "nbformat_minor": 0
}
