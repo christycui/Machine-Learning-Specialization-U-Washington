{
 "cells": [
  {
   "cell_type": "code",
   "execution_count": 1,
   "metadata": {
    "collapsed": true
   },
   "outputs": [],
   "source": [
    "import pandas as pd\n",
    "import numpy as np"
   ]
  },
  {
   "cell_type": "code",
   "execution_count": 2,
   "metadata": {
    "collapsed": true
   },
   "outputs": [],
   "source": [
    "sales = pd.read_csv(\"kc_house_data.csv\")\n",
    "testing = pd.read_csv('wk3_kc_house_test_data.csv')\n",
    "training = pd.read_csv('wk3_kc_house_train_data.csv')"
   ]
  },
  {
   "cell_type": "code",
   "execution_count": 3,
   "metadata": {
    "collapsed": true
   },
   "outputs": [],
   "source": [
    "def get_numpy_data(data,features,output):\n",
    "    constant_col = np.ones((len(data),1))\n",
    "    features_matrix = np.hstack((constant_col, data.as_matrix(features)))\n",
    "    output_array = data.as_matrix([output])\n",
    "    return (features_matrix, output_array)"
   ]
  },
  {
   "cell_type": "code",
   "execution_count": 4,
   "metadata": {
    "collapsed": true
   },
   "outputs": [],
   "source": [
    "def predict_outcome(features_matrix,weight):\n",
    "    return np.dot(features_matrix,weight).reshape((-1,1))"
   ]
  },
  {
   "cell_type": "code",
   "execution_count": 5,
   "metadata": {
    "collapsed": true
   },
   "outputs": [],
   "source": [
    "def normalize_features(feature_matrix):\n",
    "    norms = np.linalg.norm(feature_matrix, axis=0)\n",
    "    normalized_features = feature_matrix / norms\n",
    "    return (normalized_features,norms)"
   ]
  },
  {
   "cell_type": "code",
   "execution_count": 6,
   "metadata": {
    "collapsed": false
   },
   "outputs": [
    {
     "name": "stdout",
     "output_type": "stream",
     "text": [
      "[1, 87939470.823251754, 80966698.66623947]\n"
     ]
    }
   ],
   "source": [
    "(features_matrix,output) = get_numpy_data(sales,['sqft_living','bedrooms'],'price')\n",
    "(normalized_features,norms) = normalize_features(features_matrix)\n",
    "initial_weights = [1,4,1]\n",
    "initial_predictions = predict_outcome(normalized_features,initial_weights)\n",
    "# print normalized_features\n",
    "ro = [1,4,1]\n",
    "feature1 = np.reshape(normalized_features[:,1],(-1,1))\n",
    "feature2 = np.reshape(normalized_features[:,2],(-1,1))\n",
    "ro[1] = (feature1*(output - initial_predictions + initial_weights[1]*feature1)).sum()\n",
    "ro[2] = (feature2*(output - initial_predictions + initial_weights[2]*feature2)).sum()\n",
    "print ro\n"
   ]
  },
  {
   "cell_type": "code",
   "execution_count": 10,
   "metadata": {
    "collapsed": true
   },
   "outputs": [],
   "source": [
    "def lasso_coordinate_descent_step(i, feature_matrix, output, weights, l1_penalty):\n",
    "    # compute prediction\n",
    "    prediction = predict_outcome(feature_matrix,weights)\n",
    "    # compute ro[i] = SUM[ [feature_i]*(output - prediction + weight[i]*[feature_i]) ]\n",
    "    feature = np.reshape(feature_matrix[:,i],(-1,1))\n",
    "    ro_i = (feature*(output - prediction + weights[i]*feature)).sum()\n",
    "    if i == 0: # intercept -- do not regularize\n",
    "        new_weight_i = ro_i\n",
    "    elif ro_i < -l1_penalty/2.:\n",
    "        new_weight_i = ro_i + l1_penalty/2.\n",
    "    elif ro_i > l1_penalty/2.:\n",
    "        new_weight_i = ro_i - l1_penalty/2.\n",
    "    else:\n",
    "        new_weight_i = 0.\n",
    "    \n",
    "    return new_weight_i"
   ]
  },
  {
   "cell_type": "code",
   "execution_count": 11,
   "metadata": {
    "collapsed": false
   },
   "outputs": [
    {
     "name": "stdout",
     "output_type": "stream",
     "text": [
      "0.425558846691\n"
     ]
    }
   ],
   "source": [
    "# should print 0.425558846691\n",
    "import math\n",
    "print lasso_coordinate_descent_step(1, np.array([[3./math.sqrt(13),1./math.sqrt(10)],\n",
    "                   [2./math.sqrt(13),3./math.sqrt(10)]]), np.array([[1.], [1.]]), np.array([1., 4.]), 0.1)"
   ]
  },
  {
   "cell_type": "code",
   "execution_count": 12,
   "metadata": {
    "collapsed": true
   },
   "outputs": [],
   "source": [
    "def lasso_cyclical_coordinate_descent(feature_matrix, output, initial_weights, l1_penalty, tolerance):\n",
    "    weights = initial_weights\n",
    "    diff_i = []\n",
    "    n_of_features = feature_matrix.shape[1]\n",
    "    while diff_i == [] or sum(diff_i) >= tolerance:\n",
    "        diff_i = []\n",
    "        for i in range(0,n_of_features):\n",
    "            new_weight_i = lasso_coordinate_descent_step(i,feature_matrix,output,weights,l1_penalty)\n",
    "            diff_i.append(abs(new_weight_i - weights[i]))\n",
    "            weights[i] = new_weight_i\n",
    "    return weights"
   ]
  },
  {
   "cell_type": "code",
   "execution_count": 13,
   "metadata": {
    "collapsed": false
   },
   "outputs": [
    {
     "name": "stdout",
     "output_type": "stream",
     "text": [
      "[21624996.134590954, 63157248.87730661, 0.0]\n"
     ]
    }
   ],
   "source": [
    "lasso_weights = lasso_cyclical_coordinate_descent(normalized_features,output,[0,0,0],1e7,1.0)\n",
    "print lasso_weights"
   ]
  },
  {
   "cell_type": "code",
   "execution_count": 14,
   "metadata": {
    "collapsed": false
   },
   "outputs": [
    {
     "data": {
      "text/plain": [
       "1630492460021214.0"
      ]
     },
     "execution_count": 14,
     "metadata": {},
     "output_type": "execute_result"
    }
   ],
   "source": [
    "((output - predict_outcome(normalized_features, lasso_weights))**2).sum()"
   ]
  },
  {
   "cell_type": "markdown",
   "metadata": {},
   "source": [
    "# Evaluate Lasso with more features"
   ]
  },
  {
   "cell_type": "code",
   "execution_count": 15,
   "metadata": {
    "collapsed": true
   },
   "outputs": [],
   "source": [
    "(advanced_features_matrix,training_output) = get_numpy_data(training,['bedrooms', 'bathrooms', 'sqft_living', 'sqft_lot', 'floors', 'waterfront', 'view', 'condition', 'grade', 'sqft_above', 'sqft_basement', 'yr_built', 'yr_renovated'],'price')"
   ]
  },
  {
   "cell_type": "code",
   "execution_count": 16,
   "metadata": {
    "collapsed": true
   },
   "outputs": [],
   "source": [
    "(advanced_normalized_features,advanced_norms) = normalize_features(advanced_features_matrix)"
   ]
  },
  {
   "cell_type": "code",
   "execution_count": 17,
   "metadata": {
    "collapsed": false
   },
   "outputs": [
    {
     "name": "stdout",
     "output_type": "stream",
     "text": [
      "[ 23864690.05262006         0.                 0.          30495550.44912805\n",
      "         0.                 0.           1901633.6337427    5705764.85465323\n",
      "         0.                 0.                 0.                 0.\n",
      "         0.                 0.        ]\n"
     ]
    }
   ],
   "source": [
    "weights1e7 = lasso_cyclical_coordinate_descent(advanced_normalized_features,training_output,np.zeros(14),1e7,1)\n",
    "print weights1e7"
   ]
  },
  {
   "cell_type": "code",
   "execution_count": 18,
   "metadata": {
    "collapsed": false
   },
   "outputs": [
    {
     "name": "stdout",
     "output_type": "stream",
     "text": [
      "[ 53621004.68971471         0.                 0.                 0.\n",
      "         0.                 0.                 0.                 0.\n",
      "         0.                 0.                 0.                 0.\n",
      "         0.                 0.        ]\n"
     ]
    }
   ],
   "source": [
    "weights1e8 = lasso_cyclical_coordinate_descent(advanced_normalized_features,training_output,np.zeros(14),1e8,1.0)\n",
    "print weights1e8"
   ]
  },
  {
   "cell_type": "code",
   "execution_count": 19,
   "metadata": {
    "collapsed": false
   },
   "outputs": [
    {
     "name": "stdout",
     "output_type": "stream",
     "text": [
      "[  7.82190763e+07  -1.20984097e+07   1.80739372e+06   1.23989425e+08\n",
      "  -1.26486734e+06  -4.01783338e+05   5.40258988e+06   4.74063237e+06\n",
      "   1.35859466e+07   6.12220003e+07  -6.57557829e+07  -1.74916212e+07\n",
      "  -1.34202040e+08   2.27238892e+06]\n"
     ]
    }
   ],
   "source": [
    "weights1e4 = lasso_cyclical_coordinate_descent(advanced_normalized_features,training_output,np.zeros(14),1e4,5e5)\n",
    "print weights1e4"
   ]
  },
  {
   "cell_type": "markdown",
   "metadata": {},
   "source": [
    "## Normalize weights"
   ]
  },
  {
   "cell_type": "code",
   "execution_count": 21,
   "metadata": {
    "collapsed": false
   },
   "outputs": [
    {
     "name": "stdout",
     "output_type": "stream",
     "text": [
      "135.17652673\n"
     ]
    }
   ],
   "source": [
    "normalized_weights1e4 = weights1e4 / advanced_norms\n",
    "normalized_weights1e7 = weights1e7 / advanced_norms\n",
    "normalized_weights1e8 = weights1e8 / advanced_norms\n",
    "# should print 161.31745624837794\n",
    "print normalized_weights1e7[3]"
   ]
  },
  {
   "cell_type": "markdown",
   "metadata": {},
   "source": [
    "# compare RSS on different models"
   ]
  },
  {
   "cell_type": "code",
   "execution_count": 22,
   "metadata": {
    "collapsed": false
   },
   "outputs": [
    {
     "name": "stdout",
     "output_type": "stream",
     "text": [
      "1.13610819768e+14\n",
      "1.63103559598e+14\n",
      "2.8471892521e+14\n"
     ]
    }
   ],
   "source": [
    "def calculate_RSS(output, features,normalized_weights):\n",
    "    return ((output - predict_outcome(features, normalized_weights))**2).sum()\n",
    "\n",
    "(test_features_matrix,testing_output) = get_numpy_data(testing,['bedrooms', 'bathrooms', 'sqft_living', 'sqft_lot', 'floors', 'waterfront', 'view', 'condition', 'grade', 'sqft_above', 'sqft_basement', 'yr_built', 'yr_renovated'],'price')\n",
    "print calculate_RSS(testing_output,test_features_matrix,normalized_weights1e4)\n",
    "print calculate_RSS(testing_output,test_features_matrix,normalized_weights1e7)\n",
    "print calculate_RSS(testing_output,test_features_matrix,normalized_weights1e8)"
   ]
  },
  {
   "cell_type": "code",
   "execution_count": null,
   "metadata": {
    "collapsed": true
   },
   "outputs": [],
   "source": []
  }
 ],
 "metadata": {
  "kernelspec": {
   "display_name": "Python 2",
   "language": "python",
   "name": "python2"
  },
  "language_info": {
   "codemirror_mode": {
    "name": "ipython",
    "version": 2
   },
   "file_extension": ".py",
   "mimetype": "text/x-python",
   "name": "python",
   "nbconvert_exporter": "python",
   "pygments_lexer": "ipython2",
   "version": "2.7.11"
  }
 },
 "nbformat": 4,
 "nbformat_minor": 0
}
